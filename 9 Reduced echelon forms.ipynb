{
 "cells": [
  {
   "cell_type": "markdown",
   "metadata": {},
   "source": [
    "# $\\S9$. Reduced echelon forms"
   ]
  },
  {
   "cell_type": "markdown",
   "metadata": {},
   "source": [
    "**Author**: [Gilyoung Cheong](https://www.linkedin.com/in/gycheong/)\n",
    "\n",
    "**References**\n",
    "* [\"Linear Algebra Done Wrong\" by Sergei Treil](https://sites.google.com/a/brown.edu/sergei-treil-homepage/linear-algebra-done-wrong): Chapter 2 Section 3"
   ]
  },
  {
   "cell_type": "markdown",
   "metadata": {},
   "source": [
    "**Exercise**. Show that a system of linear equations is inconsistent (meaning it has no solutions) if and only if its reduced echelon form has a row of the form $[0 \\ 0 \\ 0 \\cdots \\ 0 | b]$ for some nonzero $b \\in \\mathbb{F}$ for the augmented matrix of the system.\n",
    "\n",
    "(Hint: For the \"only if\" direction, show that if such a row does not exist, we can let the variables corresponding to non-pivot columns to be anything to parametrize all solutions to the system; such variables are called **free variables**.)"
   ]
  },
  {
   "cell_type": "markdown",
   "metadata": {},
   "source": [
    "**Exercise**. If a system of linear equations is consistent, then show that if has unique solutions if and only if there are no free variables. (For this one, you don't have to do the exercise, if you find it evident enough.)"
   ]
  },
  {
   "cell_type": "markdown",
   "metadata": {},
   "source": [
    "Fix $m, n \\in \\mathbb{Z}_{\\geq 1}$.\n",
    "\n",
    "**Exercise**. Let $A$ be any $m \\times n$ matrix. Denote by $\\mathrm{REF}(A)$ the reduced echelon form of $A$. Show that\n",
    "1. $A : \\mathbb{F}^n \\rightarrow \\mathbb{F}^m$ is injective if and only if $\\mathrm{REF}(A)$ has a pivot $1$ in every column;\n",
    "2. $A : \\mathbb{F}^n \\rightarrow \\mathbb{F}^m$ is surjective if and only if $\\mathrm{REF}(A)$ has a pivot $1$ in every row."
   ]
  },
  {
   "cell_type": "markdown",
   "metadata": {},
   "source": [
    "From the last exercise and HW 2 Problem 4, it follows that:\n",
    "\n",
    "**Proposition**. Given vectors $\\boldsymbol{v}_1, \\dots, \\boldsymbol{v}_m \\in \\mathbb{F}^n$, let $A = [\\boldsymbol{v}_1 | \\cdots | \\boldsymbol{v}_m]$. Then\n",
    "1. $\\boldsymbol{v}_1, \\dots, \\boldsymbol{v}_m$ are linearly independent if and only if $\\mathrm{REF}(A)$ has a pivot $1$ in every column;\n",
    "2. $\\boldsymbol{v}_1, \\dots, \\boldsymbol{v}_m$ span $\\mathbb{F}^n$ if and only if $\\mathrm{REF}(A)$ has a pivot $1$ in every row;\n",
    "3. $\\boldsymbol{v}_1, \\dots, \\boldsymbol{v}_m$ form a basis of $\\mathbb{F}^n$ if and only if $\\mathrm{REF}(A)$ has a pivot $1$ in every column and every row.\n",
    "\n",
    "**Remark**. Note that the situation in Case 3 above forces $m = n$ and $\\mathrm{REF}(A) = I_n$. From Case 1, it also follows that:\n",
    "\n",
    "**Proposition**. \n",
    "1. A set of linearly independent vectors in $\\mathbb{F}^n$ has size at most $n$. \n",
    "2. A basis of $\\mathbb{F}^n$ has exactly $n$ vectors."
   ]
  }
 ],
 "metadata": {
  "kernelspec": {
   "display_name": "Python 3",
   "language": "python",
   "name": "python3"
  },
  "language_info": {
   "codemirror_mode": {
    "name": "ipython",
    "version": 3
   },
   "file_extension": ".py",
   "mimetype": "text/x-python",
   "name": "python",
   "nbconvert_exporter": "python",
   "pygments_lexer": "ipython3",
   "version": "3.12.1"
  }
 },
 "nbformat": 4,
 "nbformat_minor": 2
}
