{
 "cells": [
  {
   "cell_type": "markdown",
   "metadata": {},
   "source": [
    "# $\\S13$. Determinant"
   ]
  },
  {
   "cell_type": "markdown",
   "metadata": {},
   "source": [
    "**Author**: [Gilyoung Cheong](https://www.linkedin.com/in/gycheong/)\n",
    "\n",
    "**References**\n",
    "* [\"Linear Algebra Done Wrong\" by Sergei Treil](https://sites.google.com/a/brown.edu/sergei-treil-homepage/linear-algebra-done-wrong): Chapter 3 Sections 1 and 2"
   ]
  },
  {
   "cell_type": "markdown",
   "metadata": {},
   "source": [
    "Let $n$ be a positive integer.\n",
    "\n",
    "## Existence and Uniqueness Theorem\n",
    "\n",
    "**Theorem (Existence and Uniqueness of Determinant)**. There exists a unique map $D : (\\mathbb{F}^{n})^n \\rightarrow \\mathbb{F}$ satisfying the following properties:\n",
    "\n",
    "1. (Multi-linear) For every $1 \\leq i \\leq n$ and $n-1$ vectors $\\boldsymbol{v}_1, \\dots, \\boldsymbol{v}_{i-1}, \\dots, \\boldsymbol{v}_{i+1}, \\dots, \\boldsymbol{v}_n \\in \\mathbb{F}^n$, the map $\\mathbb{F}^n \\rightarrow \\mathbb{F}$ given by $\\boldsymbol{x} \\mapsto D(\\boldsymbol{v}_1, \\dots, \\boldsymbol{v}_{i-1}, \\boldsymbol{x}, \\boldsymbol{v}_{i+1}, \\dots, \\boldsymbol{v}_n)$ is linear.\n",
    "2. (Alternating) Given any vectors $\\boldsymbol{v}_1, \\dots, \\boldsymbol{v}_n$, if there are any distinct $i, j \\in \\{1, 2, \\dots, n\\}$ such that $\\boldsymbol{v}_i = \\boldsymbol{v}_j$, then $D(\\boldsymbol{v}_1, \\dots, \\boldsymbol{v}_n) = 0$.\n",
    "3. (Normalizing) We have $D(\\boldsymbol{e}_1, \\dots, \\boldsymbol{e}_n) = 1$."
   ]
  },
  {
   "cell_type": "markdown",
   "metadata": {},
   "source": [
    "We shall prove the above theorem later, but we use it first to study the determinants of square matrices. Given an $n \\times n$ matrix $A$ over $\\mathbb{F}$, we define the determinant of $A$ as follows:\n",
    "\n",
    "$$\\det(A) := D(A\\boldsymbol{e}_1, \\dots, A\\boldsymbol{e}_n).$$\n",
    "\n",
    "**Exercise**. Let $n \\geq 2$. Given an $n \\times n$ matrix $A$, let $B$ be an $n \\times n$ matrix obtained by switching two distinct columns of $A$. Then show that $\\det(B) = -\\det(A)$.\n",
    "\n",
    "**Exercise**. Let $n \\geq 2$. Given an $n \\times n$ matrix $A$, let $B$ be an $n \\times n$ matrix obtained by adding a multiple of a column to another column of $A$. Then show that $\\det(B) = \\det(A)$.\n",
    "\n",
    "**Exercise**. Given an $n \\times n$ matrix $A$, show that if the columns of $A$ are linearly depenent, then $\\det(A) = 0$.\n",
    "\n",
    "**Exercise**. Given an $n \\times n$ matrix $A$, show that if $A$ is upper-triangular or lower-triangular, then $\\det(A)$ is the product of the diagonal entries of $A$."
   ]
  },
  {
   "cell_type": "markdown",
   "metadata": {},
   "source": [
    "## $1 \\times 1$ and $2 \\times 2$ cases\n",
    "\n",
    "**Exercise**. Show that for any $a \\in \\mathbb{F}$, we must have $\\det[a] = a$.\n",
    "\n",
    "**Exercise**. Show that for any $a, b, c, d \\in \\mathbb{F}$, we must have\n",
    "\n",
    "$$\\det \\begin{bmatrix}\n",
    "a & b \\\\\n",
    "c & d\n",
    "\\end{bmatrix} = ad - bc.$$"
   ]
  }
 ],
 "metadata": {
  "kernelspec": {
   "display_name": "Python 3",
   "language": "python",
   "name": "python3"
  },
  "language_info": {
   "codemirror_mode": {
    "name": "ipython",
    "version": 3
   },
   "file_extension": ".py",
   "mimetype": "text/x-python",
   "name": "python",
   "nbconvert_exporter": "python",
   "pygments_lexer": "ipython3",
   "version": "3.12.1"
  }
 },
 "nbformat": 4,
 "nbformat_minor": 2
}
