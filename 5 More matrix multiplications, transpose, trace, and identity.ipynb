{
 "cells": [
  {
   "cell_type": "markdown",
   "metadata": {},
   "source": [
    "# $\\S5$. More matrix multiplications, transpose, trace, identity"
   ]
  },
  {
   "cell_type": "markdown",
   "metadata": {},
   "source": [
    "**Author**: [Gilyoung Cheong](https://www.linkedin.com/in/gycheong/)\n",
    "\n",
    "**References**\n",
    "* [\"Linear Algebra Done Wrong\" by Sergei Treil](https://sites.google.com/a/brown.edu/sergei-treil-homepage/linear-algebra-done-wrong): Chapter 1 Section 5 (and a little bit of Section 6)"
   ]
  },
  {
   "cell_type": "markdown",
   "metadata": {},
   "source": [
    "## More on matrix multiplications\n",
    "\n",
    "Fix $m, n, r \\in \\mathbb{Z}_{\\geq 1}$. Consider \n",
    "\n",
    "* an $m \\times n$ matrix $A$ and\n",
    "* an an $n \\times r$ matrix $B$.\n",
    "\n",
    "**Proposition**. If we denote by $a_{ij}$ the $(i,j)$-component of $A$ and $b_{kl}$ the $(k,l)$-component of $B$, then the $(i,j)$-component of $AB$ is equal to\n",
    "$$\\sum_{k=1}^n a_{ik}b_{kj} = a_{i1}b_{1j} + a_{i2}b_{2j} + \\cdots + a_{in}b_{nj}.$$"
   ]
  },
  {
   "cell_type": "markdown",
   "metadata": {},
   "source": [
    "*Proof*. The $j$-th column of $AB$ is\n",
    "\n",
    "$$A \\begin{bmatrix}\n",
    "b_{1j} \\\\\n",
    "b_{2j} \\\\\n",
    "\\vdots \\\\\n",
    "b_{nj}\n",
    "\\end{bmatrix} =  \n",
    "\\begin{bmatrix}\n",
    "a_{11} & \\cdots & a_{1n} \\\\\n",
    "a_{21} & \\cdots & a_{2n} \\\\\n",
    "\\vdots & \\vdots & \\vdots \\\\\n",
    "a_{m1} & \\cdots & a_{mn}\n",
    "\\end{bmatrix}\n",
    "\\begin{bmatrix}\n",
    "b_{1j} \\\\\n",
    "b_{2j} \\\\\n",
    "\\vdots \\\\\n",
    "b_{nj}\n",
    "\\end{bmatrix} = \\begin{bmatrix}\n",
    "a_{11}b_{1j} + \\cdots + a_{1n}b_{nj} \\\\\n",
    "a_{21}b_{1j} + \\cdots + a_{2n}b_{nj} \\\\\n",
    " \\vdots  \\\\\n",
    "a_{m1}b_{1j} + \\cdots + a_{mn}b_{nj}\n",
    "\\end{bmatrix},$$\n",
    "\n",
    "so taking the $i$-th component of the last vector, we get the result. $\\Box$"
   ]
  },
  {
   "cell_type": "markdown",
   "metadata": {},
   "source": [
    "## Transpose\n",
    "\n",
    "Given an $m \\times n$ matrix\n",
    "$$A = \\begin{bmatrix}\n",
    "a_{11} & a_{12} & \\cdots & a_{1n} \\\\\n",
    "a_{21} & a_{22} & \\cdots & a_{2n} \\\\\n",
    "\\vdots & \\vdots & \\vdots & \\vdots \\\\\n",
    "a_{m1} & a_{m2} & \\cdots & a_{mn}\n",
    "\\end{bmatrix},$$\n",
    "the **transpose** of $A$ is the following $n \\times m$ matrix:\n",
    "\n",
    "$$A^T := \\begin{bmatrix}\n",
    "a_{11} & a_{21} & \\cdots & a_{m1} \\\\\n",
    "a_{12} & a_{22} & \\cdots & a_{m2} \\\\\n",
    "\\vdots & \\vdots & \\vdots & \\vdots \\\\\n",
    "a_{1n} & a_{2n} & \\cdots & a_{mn}\n",
    "\\end{bmatrix}.$$"
   ]
  },
  {
   "cell_type": "markdown",
   "metadata": {},
   "source": [
    "**Exercise**. Show that for any \n",
    "* $A \\in \\mathrm{M}_{m,n}(\\mathbb{F})$ and\n",
    "* $B \\in \\mathrm{M}_{n,r}(\\mathbb{F})$,\n",
    "\n",
    "we have $(AB)^T = B^TA^T$."
   ]
  },
  {
   "cell_type": "markdown",
   "metadata": {},
   "source": [
    "## Trace\n",
    "\n",
    "Given an $n \\times n$ matrix $X = (x_{ij})$, the **trace** of $X$ is defined as\n",
    "$$\\mathrm{Tr}(X) := x_{11} + x_{22} + \\cdots + x_{nn}$$\n",
    "\n",
    "the sum of the diagonals of $X$."
   ]
  },
  {
   "cell_type": "markdown",
   "metadata": {},
   "source": [
    "**HW 2 Problem 1**. Show that for any $A \\in \\mathrm{M}_{m,n}(\\mathbb{F})$ and $B \\in \\mathrm{M}_{n,m}(\\mathbb{F})$, we have\n",
    "\n",
    "$$\\mathrm{Tr}(AB) = \\mathrm{Tr}(BA).$$"
   ]
  },
  {
   "cell_type": "markdown",
   "metadata": {},
   "source": [
    "## Identity\n",
    "\n",
    "**Exercise**. Find the $n \\times n$ matrix that is realized as the identity map $\\mathbb{F}^n \\rightarrow \\mathbb{F}^n$, which sends any vector to itself. We write this matrix as $I_n$ and call this the $n \\times n$ identity matrix.\n",
    "\n",
    "**Exercise**. Show that $A I_n = A$ for any $m \\times n$ matrix and $I_n B = B$ for any $n \\times r$ matrix $B$."
   ]
  }
 ],
 "metadata": {
  "kernelspec": {
   "display_name": "Python 3",
   "language": "python",
   "name": "python3"
  },
  "language_info": {
   "codemirror_mode": {
    "name": "ipython",
    "version": 3
   },
   "file_extension": ".py",
   "mimetype": "text/x-python",
   "name": "python",
   "nbconvert_exporter": "python",
   "pygments_lexer": "ipython3",
   "version": "3.12.1"
  }
 },
 "nbformat": 4,
 "nbformat_minor": 2
}
