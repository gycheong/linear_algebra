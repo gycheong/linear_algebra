{
 "cells": [
  {
   "cell_type": "markdown",
   "metadata": {},
   "source": [
    "# $\\S13$. Determinant 2"
   ]
  },
  {
   "cell_type": "markdown",
   "metadata": {},
   "source": [
    "**Author**: [Gilyoung Cheong](https://www.linkedin.com/in/gycheong/)\n",
    "\n",
    "**References**\n",
    "* [\"Linear Algebra Done Wrong\" by Sergei Treil](https://sites.google.com/a/brown.edu/sergei-treil-homepage/linear-algebra-done-wrong): Chapter 3 Sections 4 and 5"
   ]
  },
  {
   "cell_type": "markdown",
   "metadata": {},
   "source": [
    "Let $n$ be a positive integer.\n",
    "\n",
    "### Proving Existence and Uniqueness Theorem\n",
    "\n",
    "Recall that our discussion of the notion of determinant is based on the following theorem:\n",
    "\n",
    "**Theorem (Existence and Uniqueness of Determinant)**. There exists a unique map $D : (\\mathbb{F}^{n})^n \\rightarrow \\mathbb{F}$ satisfying the following properties:\n",
    "\n",
    "1. (Multi-linear) For every $1 \\leq i \\leq n$ and $n-1$ vectors $\\boldsymbol{v}_1, \\dots, \\boldsymbol{v}_{i-1}, \\dots, \\boldsymbol{v}_{i+1}, \\dots, \\boldsymbol{v}_n \\in \\mathbb{F}^n$, the map $\\mathbb{F}^n \\rightarrow \\mathbb{F}$ given by $\\boldsymbol{x} \\mapsto D(\\boldsymbol{v}_1, \\dots, \\boldsymbol{v}_{i-1}, \\boldsymbol{x}, \\boldsymbol{v}_{i+1}, \\dots, \\boldsymbol{v}_n)$ is linear.\n",
    "2. (Alternating) Given any vectors $\\boldsymbol{v}_1, \\dots, \\boldsymbol{v}_n$, if there are any distinct $i, j \\in \\{1, 2, \\dots, n\\}$ such that $\\boldsymbol{v}_i = \\boldsymbol{v}_j$, then $D(\\boldsymbol{v}_1, \\dots, \\boldsymbol{v}_n) = 0$.\n",
    "3. (Normalizing) We have $D(\\boldsymbol{e}_1, \\dots, \\boldsymbol{e}_n) = 1$."
   ]
  },
  {
   "cell_type": "markdown",
   "metadata": {},
   "source": [
    "Our goal is to prove the above theorem. It is more convenient to think that $D$ is a function on the set of matrices:\n",
    "\n",
    "$$\\det(A) = D(A\\boldsymbol{e}_1, \\dots, A\\boldsymbol{e}_n).$$\n",
    "\n",
    "Denoting by $a_{ij}$ the $(i,j)$-entry of $A$, since\n",
    "\n",
    "$$A\\boldsymbol{e}_j = a_{1j}\\boldsymbol{e}_1 + a_{2j}\\boldsymbol{e}_2 + \\cdots + a_{nj}\\boldsymbol{e}_n = \\sum_{i=1}^n a_{ij}\\boldsymbol{e}_i,$$\n",
    "\n",
    "we have\n",
    "\n",
    "$$\\begin{align*}\n",
    "\\det(A) &= D\\left(\\sum_{i_1=1}^n a_{i_1,1}\\boldsymbol{e}_{i_1}, \\dots, \\sum_{i_n=1}^n a_{i_n,n}\\boldsymbol{e}_{i_n}\\right) \\\\\n",
    "&= \\sum_{i_1=1}^n \\cdots \\sum_{i_n=1}^n a_{i_1,1} \\cdots a_{i_n,n} D\\left(\\boldsymbol{e}_{i_1}, \\dots, \\boldsymbol{e}_{i_n}\\right),\n",
    "\\end{align*}$$\n",
    "\n",
    "so it is enough to decide what $(D(\\boldsymbol{e}_{i_1}, \\dots, \\boldsymbol{e}_{i_n}))_{1 \\leq i_1, \\dots, i_n \\leq n}$ are.\n",
    "\n",
    "Evidently, if any two of $i_1, \\dots, i_n$ are equal, we have $D(\\boldsymbol{e}_{i_1}, \\dots, \\boldsymbol{e}_{i_n}) = 0$. Hence, we have\n",
    "$$\\det(A) = \\sum_{\\sigma \\in S_n} a_{\\sigma(1),1} \\cdots a_{\\sigma(n),n} D(\\boldsymbol{e}_{\\sigma(1)}, \\dots, \\boldsymbol{e}_{\\sigma(n)}),$$\n",
    "where $S_n$ is the set of all bijections from $\\{1, 2, \\dots, n\\}$ to itself."
   ]
  },
  {
   "cell_type": "markdown",
   "metadata": {
    "vscode": {
     "languageId": "plaintext"
    }
   },
   "source": [
    "**Example.** Consider the case when $n = 2$. Then\n",
    "$$\\begin{align*}\n",
    "\\det(A) &= \\sum_{\\sigma \\in S_n} a_{\\sigma(1),1} a_{\\sigma(2),2} D(\\boldsymbol{e}_{\\sigma(1)}, \\boldsymbol{e}_{\\sigma(2)}) \\\\\n",
    "&= a_{1,1} a_{2,2} D(\\boldsymbol{e}_{1}, \\boldsymbol{e}_{2}) + a_{2,1} a_{1,2} D(\\boldsymbol{e}_{2}, \\boldsymbol{e}_{1}) \\\\\n",
    "&= a_{1,1} a_{2,2} D(\\boldsymbol{e}_{1}, \\boldsymbol{e}_{2}) - a_{2,1} a_{1,2} D(\\boldsymbol{e}_{1}, \\boldsymbol{e}_{2}) \\\\\n",
    "&= a_{1,1} a_{2,2} - a_{2,1} a_{1,2}.\n",
    "\\end{align*}$$"
   ]
  },
  {
   "cell_type": "markdown",
   "metadata": {
    "vscode": {
     "languageId": "plaintext"
    }
   },
   "source": [
    "For general $n$, it is more difficult to write down what would out as a formula for $\\det(A)$, so what people use in this case is what's called the **sign** of each $\\sigma \\in S_n$. Consider the polynomial\n",
    "$$\\Delta (x_1, \\dots, x_n) := \\prod_{1 \\leq i < j \\leq n}(x_{i} - x_{j}).$$\n",
    "\n",
    "Given any $\\sigma \\in S_n$, define the **action** of $\\sigma$ on the above polynomial as the following polynomial\n",
    "$$ (\\sigma \\Delta) (x_1, \\dots, x_n) := \\prod_{1 \\leq i < j \\leq n}(x_{\\sigma(i)} - x_{\\sigma(j)}).$$\n",
    "\n",
    "Note that for each $1 \\leq i' < j' \\leq n$, the polynomial $(\\sigma \\Delta) (x_1, \\dots, x_n)$ cotains either $x_{i'} - x_{j'}$ or $x_{j'} - x_{i'}$ but not both. This implies that \n",
    "\n",
    "$$ (\\sigma \\Delta) (x_1, \\dots, x_n) = \\mathrm{sgn}(\\sigma) \\Delta (x_1, \\dots, x_n),$$\n",
    "\n",
    "where $\\mathrm{sgn}(\\sigma) \\in \\{-1, 1\\}$."
   ]
  },
  {
   "cell_type": "markdown",
   "metadata": {},
   "source": [
    "**Exercise.** Show that for any $\\sigma_1, \\sigma_2 \\in S_n$, we have\n",
    "$$\\mathrm{sgn}(\\sigma_2 \\circ \\sigma_1) = \\mathrm{sgn}(\\sigma_2) \\mathrm{sgn}(\\sigma_1).$$\n",
    "\n",
    "From the above exercise, we may realize that\n",
    "$$D(\\boldsymbol{e}_{\\sigma(1)}, \\dots, \\boldsymbol{e}_{\\sigma(n)}) = \\mathrm{sgn}(\\sigma),$$\n",
    "\n",
    "so if the determinant function exists, we must have\n",
    "$$\\begin{align*}\n",
    "\\det(A) &= \\sum_{\\sigma \\in S_n} a_{\\sigma(1),1} \\cdots a_{\\sigma(n),n} D(\\boldsymbol{e}_{\\sigma(1)}, \\dots, \\boldsymbol{e}_{\\sigma(n)}) \\\\\n",
    "&= \\sum_{\\sigma \\in S_n} a_{\\sigma(1),1} \\cdots a_{\\sigma(n),n} \\mathrm{sgn}(\\sigma).\n",
    "\\end{align*}$$"
   ]
  },
  {
   "cell_type": "markdown",
   "metadata": {},
   "source": [
    "**HW 6 Problem 1.** Show that the map $(\\mathbb{F}^n)^n \\rightarrow \\mathbb{F}$ given by\n",
    "$$A = (a_{i,j}) \\mapsto \\sum_{\\sigma \\in S_n} a_{\\sigma(1),1} \\cdots a_{\\sigma(n),n} \\mathrm{sgn}(\\sigma)$$\n",
    "satisfies the three properties that $D$ does in Theroem."
   ]
  },
  {
   "cell_type": "markdown",
   "metadata": {},
   "source": [
    "### Cofactor Expansion\n",
    "\n",
    "Given an $n \\times n$ matrix $A$ and $1 \\leq i, j \\leq n$, denote by $A_{i,j}$ the $(n - 1) \\times (n - 1)$ matrix obtained from $A$ be deleting $i$-th row and $j$-th column of $A$.\n",
    "\n",
    "**Theorem.** Writing $a_{ij}$ to mean the $(i,j)$-entry of $A$, for any $1 \\leq i \\leq n$, we have\n",
    "$$\\det(A) = (-1)^{i+1}a_{i1}\\det(A_{i,1}) + (-1)^{i+2} a_{i2} \\det(A_{i,2}) + \\cdots + (-1)^{i+n}a_{in} \\det(A_{i,n}).$$"
   ]
  },
  {
   "cell_type": "markdown",
   "metadata": {},
   "source": [
    "*Proof*. Since we know what happens when we switch rows, it is enough to show the formula when $i = 1$. That is, we want to show that\n",
    "\n",
    "$$\\det(A) = a_{11}\\det(A_{1,1}) - a_{12}\\det(A_{1,2}) + \\cdots + (-1)^{n}a_{1n} \\det(A_{1,n}).$$\n",
    "\n",
    "We consider the map \n",
    "$$\\phi : (\\mathbb{F}^n)^n \\rightarrow \\mathbb{F}$$\n",
    "given by \n",
    " $$A = (a_{ij}) \\mapsto a_{11}\\det(A_{1,1}) - a_{12}\\det(A_{1,2}) + \\cdots + (-1)^{n}a_{1n} \\det(A_{1,n})$$\n",
    "and show that it is multi-linear, alternating, and normalizaing.\n",
    "\n",
    "We proceed by induction on the size of the input matrices. For $1 \\times 1$ matrices, the map $\\phi$ is the identity map, so it satisfies the three properties. Suppose that the statement is true for the input matrices of size $(n - 1) \\times (n - 1)$. Given any $1 \\leq j \\leq n$, the expressions \n",
    "* $a_{1j} \\det(A_{1,j})$ (due to $a_{1j}$) and\n",
    "* $a_{1k} \\det(A_{1,k})$ with $k \\neq j$ (due to $\\det(A_{1 k})$ using induction hypothesis)\n",
    "\n",
    "are linear in $j$-th column of $A$. This implies that $\\phi$ is multi-linear.\n",
    "\n",
    "To check alternating property, suppose that $i$-th and $j$-th columns of $A$ are identical with $1 \\leq i < j \\leq n$. By induction hypothesis, we have\n",
    "\n",
    "$$\\phi(A) = (-1)^{i+1} a_{1i}\\det(A_{1i}) + (-1)^{j+1}a_{1j}\\det(A_{1j}).$$\n",
    "\n",
    "**Exercise**. Show that we have\n",
    "$$\\det(A_{1i}) = (-1)^{j-i-1}\\det(A_{1j}).$$\n",
    "\n",
    "By the above exercise and since $a_{1i} = a_{1j}$, we must have $\\phi(A) = 0$.\n",
    "\n",
    "Lastly, we may check $\\phi(I_n) = 1 \\cdot \\det(I_{n-1}) = 1$, so we are done. $\\Box$ "
   ]
  },
  {
   "cell_type": "markdown",
   "metadata": {},
   "source": [
    "**Exercise**. Show that for any $1 \\leq j \\leq n$, we have\n",
    "\n",
    "$$\\det(A) = (-1)^{j+1}a_{1j}\\det(A_{1,j}) + (-1)^{j+2} a_{i2} \\det(A_{2,j}) + \\cdots + (-1)^{j+n}a_{nj} \\det(A_{n,j}).$$"
   ]
  },
  {
   "cell_type": "markdown",
   "metadata": {},
   "source": [
    "### Cofactor Matrix and Inversion Formula\n",
    "\n",
    "Given an $n \\times n$ matrix $A$, the $(i,j)$-cofactor of $A$ is $(-1)^{i+j}\\det(A_{i,j})$. The **cofactor matrix** $\\mathrm{cof}(A)$ is the $n \\times n$ matrix whose $(i,j)$-entry is the $(i,j)$-cofactor matrix $A$.\n",
    "\n",
    "**Theorem**. We have\n",
    "\n",
    "$$A \\cdot (\\mathrm{cof}(A))^T = \\det(A) I_n.$$"
   ]
  },
  {
   "cell_type": "markdown",
   "metadata": {},
   "source": [
    "*Proof*. Writing $A = (a_{ij})$, the $(i,j)$-entry of the left-hand side is \n",
    "\n",
    "$$\\sum_{k=1}^n(-1)^{j+k}a_{ik} \\det(A_{j,k}).$$\n",
    "\n",
    "If $i = j$, then this is equal to \n",
    "\n",
    "$$\\sum_{k=1}^n(-1)^{i+k}a_{ik} \\det(A_{i,k}) = \\det(A).$$\n",
    "\n",
    "If $i \\neq j$, then the above quantity is the determinant of an $n \\times n$ matrix that have two identical rows, so it must be $0$. This finishes the proof. $\\Box$"
   ]
  }
 ],
 "metadata": {
  "kernelspec": {
   "display_name": "Python 3",
   "language": "python",
   "name": "python3"
  },
  "language_info": {
   "codemirror_mode": {
    "name": "ipython",
    "version": 3
   },
   "file_extension": ".py",
   "mimetype": "text/x-python",
   "name": "python",
   "nbconvert_exporter": "python",
   "pygments_lexer": "ipython3",
   "version": "3.12.1"
  }
 },
 "nbformat": 4,
 "nbformat_minor": 2
}
