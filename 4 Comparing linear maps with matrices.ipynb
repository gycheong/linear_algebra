{
 "cells": [
  {
   "cell_type": "markdown",
   "metadata": {},
   "source": [
    "# $\\S4$. Comparing linear maps with matrices"
   ]
  },
  {
   "cell_type": "markdown",
   "metadata": {},
   "source": [
    "**Author**: [Gilyoung Cheong](https://www.linkedin.com/in/gycheong/)\n",
    "\n",
    "**References**\n",
    "* [\"Linear Algebra Done Wrong\" by Sergei Treil](https://sites.google.com/a/brown.edu/sergei-treil-homepage/linear-algebra-done-wrong)"
   ]
  },
  {
   "cell_type": "markdown",
   "metadata": {},
   "source": [
    "## Multiplying two matrices:\n",
    "\n",
    "Fix $m, n, r \\in \\mathbb{Z}_{\\geq 1}$. When $A$ is an $m \\times n$ matrix and $B$ is an $n \\times r$ matrix, then their product $AB$ is defined to be the $m \\times r$ matrix\n",
    "\n",
    "$$AB = [A\\boldsymbol{b}_1 | \\cdots | A\\boldsymbol{b}_r],$$\n",
    "\n",
    "where we denoted by $\\boldsymbol{b}_j$ the $j$-th column of $B$."
   ]
  },
  {
   "cell_type": "markdown",
   "metadata": {},
   "source": [
    "**Exercise**. Given linear maps $S: \\mathbb{F}^r \\rightarrow \\mathbb{F}^n$ and $T : \\mathbb{F}^n \\rightarrow \\mathbb{F}^m$, show that $T \\circ S : \\mathbb{F}^r \\rightarrow \\mathbb{F}^{m}$ is a linear map."
   ]
  },
  {
   "cell_type": "markdown",
   "metadata": {},
   "source": [
    "## Multiplying two matrices vs composing two linear maps\n",
    "\n",
    "**Exercise**. Given the maps in the previous exercise, consider the matrices \n",
    "* $A := [T(\\boldsymbol{e}_1) | \\cdots | T(\\boldsymbol{e}_n)]$ and\n",
    "* $B := [S(\\boldsymbol{e}_1) | \\cdots | S(\\boldsymbol{e}_r)]$.\n",
    "\n",
    "Show that the matrix product $AB$ defines a linear map $AB : \\mathbb{F}^r \\rightarrow \\mathbb{F}^{m}$ that is identical to $T \\circ S$."
   ]
  },
  {
   "cell_type": "markdown",
   "metadata": {},
   "source": [
    "Thanks to the previous exercise, we can verify the following:\n",
    "\n",
    "**Exercise**. Show that for any \n",
    "* $A \\in \\mathrm{M}_{m,n}(\\mathbb{F})$,\n",
    "* $B \\in \\mathrm{M}_{n,r}(\\mathbb{F})$, and\n",
    "* $C \\in \\mathrm{M}_{r,p}(\\mathbb{F})$,\n",
    "\n",
    "we have $(AB)C = A(BC)$."
   ]
  },
  {
   "cell_type": "markdown",
   "metadata": {},
   "source": [
    "**Exercise**. Show that for any $A \\in \\mathrm{M}_{m,n}(\\mathbb{F})$ and $B, C \\in \\mathrm{M}_{n,r}(\\mathbb{F})$, we have\n",
    "\n",
    "$$A(B + C) = AB + AC.$$"
   ]
  },
  {
   "cell_type": "markdown",
   "metadata": {},
   "source": [
    "**Exercise**. Show that for any $A, B \\in \\mathrm{M}_{m,n}(\\mathbb{F})$ and $C \\in \\mathrm{M}_{n,r}(\\mathbb{F})$, we have\n",
    "\n",
    "$$(A + B)C = AC + BC.$$"
   ]
  },
  {
   "cell_type": "markdown",
   "metadata": {},
   "source": [
    "**Warning**. Note that when we take\n",
    "\n",
    "$$A = \\begin{bmatrix}\n",
    "1 & 2 \\\\\n",
    "3 & 4\n",
    "\\end{bmatrix}$$\n",
    "\n",
    "and\n",
    "\n",
    "$$B = \\begin{bmatrix}\n",
    "0 & 1 \\\\\n",
    "0 & 0\n",
    "\\end{bmatrix},$$\n",
    "\n",
    "we have\n",
    "\n",
    "$$AB = \\begin{bmatrix}\n",
    "0 & 1\\\\\n",
    "0 & 3\n",
    "\\end{bmatrix} \\neq \\begin{bmatrix}\n",
    "3 & 4\\\\\n",
    "0 & 0\n",
    "\n",
    "\\end{bmatrix} = BA,$$\n",
    "\n",
    "so matrices multiplications do not commute in general even when the products are well-defined."
   ]
  }
 ],
 "metadata": {
  "kernelspec": {
   "display_name": "Python 3",
   "language": "python",
   "name": "python3"
  },
  "language_info": {
   "codemirror_mode": {
    "name": "ipython",
    "version": 3
   },
   "file_extension": ".py",
   "mimetype": "text/x-python",
   "name": "python",
   "nbconvert_exporter": "python",
   "pygments_lexer": "ipython3",
   "version": "3.12.1"
  }
 },
 "nbformat": 4,
 "nbformat_minor": 2
}
