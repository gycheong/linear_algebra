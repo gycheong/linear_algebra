{
 "cells": [
  {
   "cell_type": "markdown",
   "metadata": {},
   "source": [
    "# $\\S14$. Eigenvalues and Eigenvectors"
   ]
  },
  {
   "cell_type": "markdown",
   "metadata": {},
   "source": [
    "**Author**: [Gilyoung Cheong](https://www.linkedin.com/in/gycheong/)\n",
    "\n",
    "**References**\n",
    "* [\"Linear Algebra Done Wrong\" by Sergei Treil](https://sites.google.com/a/brown.edu/sergei-treil-homepage/linear-algebra-done-wrong): Chapter 4 Section 1"
   ]
  },
  {
   "cell_type": "markdown",
   "metadata": {},
   "source": [
    "Let $n$ be a positive integer.\n",
    "\n",
    "### Motivation: Difference Equations\n",
    "\n",
    "Given an $n \\times n$ matrix $A$, and a vector $\\boldsymbol{x}_0 \\in \\mathbb{F}^n$. Consider the sequence $\\boldsymbol{x}_0, \\boldsymbol{x}_1, \\boldsymbol{x}_2, \\dots$ of vectors in $\\mathbb{F}^n$ recursively defined as follows:\n",
    "\n",
    "$$\\boldsymbol{x}_{j+1} := A\\boldsymbol{x}_j.$$\n",
    "\n",
    "Often, you want to understand the behavior of the sequence as $n \\rightarrow \\infty$. If it was the case that the left-multiplication by $A$ to $\\boldsymbol{x}_0$ acted like the scalar multiplication, then it would have been much easier to understand this asympototic behavior."
   ]
  },
  {
   "cell_type": "markdown",
   "metadata": {
    "vscode": {
     "languageId": "plaintext"
    }
   },
   "source": [
    "### Eigenvalues and Eigenvectors\n",
    "\n",
    "Let $V$ be a vector space. Given a linear map $\\phi : V \\rightarrow V$, if there is a nonzero vector $\\boldsymbol{v} \\in V$ and a scalar $\\lambda \\in \\mathbb{F}$ such that $\\phi(v) = \\lambda v$, we say $\\lambda$ is an **eigenvalue** of $\\phi$ and $\\boldsymbol{v}$ is an **eigenvector** of $\\phi$ that corresponds to $\\lambda$.\n",
    "\n",
    "**Exercise**. Keeping the notation above, show that the eigenvectors of $\\phi$ that correspond to $\\lambda \\in \\mathbb{F}$ are precisely nonzero vectors of $\\ker(\\lambda\\mathrm{id}_V - \\phi)$.\n",
    "\n",
    "The subspace $\\ker(\\lambda\\mathrm{id}_V - \\phi)$ is called the eigenspace of $\\lambda$, which is NOT equal to the zero subspace if and only if $\\lambda$ is an eigenvalue of $A$."
   ]
  },
  {
   "cell_type": "markdown",
   "metadata": {},
   "source": [
    "Given an $n \\times n$ matrix $A$, we define eigenvalues and eigenvectors of $A$ by viewing it as a linear map $A : \\mathbb{F}^n \\rightarrow \\mathbb{F}^n$.\n",
    "\n",
    "**Warning.** We only make sense of eigenvalues and eigenvectors for a square matrix.\n",
    "\n",
    "**Exercise**. Let $A$ be an $n \\times n$ matrix. Show that eigenvalues of $A$ are precisely roots of the polynomial $\\det(t I_n - A)$ in $t$ over $\\mathbb{F}$. Then show that $\\det(t I_n - A)$ is a polynomial of degree $n$ that is **monic** (i.e., its leading coefficient is $1$. Conclude that at most $n$ distinct eigenvalues of $A$.\n",
    "\n",
    "The polynomial $\\det(t I_n - A)$ is called the **characteristic polynomial** of $A$.\n",
    "\n",
    "**Warning**. Your book uses $\\det(A - t I_n)$, but we will use $\\det(t I_n - A)$. The difference is a possible minus sign when $n$ is odd."
   ]
  },
  {
   "cell_type": "markdown",
   "metadata": {
    "vscode": {
     "languageId": "plaintext"
    }
   },
   "source": [
    "### Invariance of Eigenvalues under Similarity\n",
    "\n",
    "Consider any linear map $B : \\mathbb{F}^n \\rightarrow \\mathbb{F}^n$. Given an $n \\times n$ matrix $A$ and a basis $\\boldsymbol{v}_1, \\dots, \\boldsymbol{v}_n$, we say that the matrix $A$ **respresents** the linear map $B$ with respect to the basis $\\boldsymbol{v}_1, \\dots, \\boldsymbol{v}_n$ if for any $1 \\leq j \\leq n$, we have\n",
    "\n",
    "$$B \\boldsymbol{v}_j = \\sum_{i=1}^n a_{ij} \\boldsymbol{v}_i.$$\n",
    "\n",
    "**Exercise**. Show that $A$ respresents itself with respect to the standard basis."
   ]
  },
  {
   "cell_type": "markdown",
   "metadata": {},
   "source": [
    "Recall from HW 4 Problems 2 and 3 that $A$ represents $B$ with respect to $\\boldsymbol{v}_1, \\dots, \\boldsymbol{v}_n$ if and only if\n",
    "\n",
    "$$A = Q^{-1}BQ,$$\n",
    "\n",
    "where $Q$ is the $n \\times n$ matrix whose columns are given by $\\boldsymbol{v}_1, \\dots, \\boldsymbol{v}_n$. In this case, we say $A$ is similar to $B$. We write $A \\sim B$ to mean this."
   ]
  },
  {
   "cell_type": "markdown",
   "metadata": {},
   "source": [
    "**Exercise**. Show that similarity is an **equivalence reltion** on the set of $n \\times n$ matrices over $\\mathbb{F}$. That is, show that for any $n \\times n$ matrices $A, B, C$ over $\\mathbb{F}$, we have\n",
    "\n",
    "1. $A \\sim A$,\n",
    "2. if $A \\sim B$, then $B \\sim A$, and\n",
    "3. if $A \\sim B$ and $B \\sim C$, then $A \\sim C$.\n",
    "\n",
    "**Exercise**. Show that two similar $n \\times n$ matrices must have the same characteristic polynomial."
   ]
  },
  {
   "cell_type": "markdown",
   "metadata": {},
   "source": [
    "**HW 7 Problem 1**. Read about the [**Fundamental Theorem of Algebra**](https://en.wikipedia.org/wiki/Fundamental_theorem_of_algebra). We shall use this theorem without proof for the rest of our class. Explain how this guarantees that for any $n \\times n$ matrix $A$ over $\\mathbb{F}$ (i.e., $\\mathbb{R}$ or $\\mathbb{C}$) we may discuss eigenvalues $\\lambda_1, \\dots, \\lambda_n$ in $\\mathbb{C}$ with possible mulitiplicites."
   ]
  },
  {
   "cell_type": "markdown",
   "metadata": {},
   "source": [
    "**HW 7 Problem 2**. Let $\\lambda_1, \\dots, \\lambda_n$ be complex eigenvalues of an $n \\times n$ matrix $A$ counting with multiplicity. Show that\n",
    "\n",
    "$$\\mathrm{Tr}(A) = \\lambda_1 + \\cdots + \\lambda_n.$$\n",
    "\n",
    "Hint: First show that the right-hand side is precisely the minus of the coefficient of $t^{n-1}$ of  the characteristic polynomial $\\det(tI_n - A)$. Then think about how to compute $\\det(tI_n - A)$ using repeated cofactor expansions along first row."
   ]
  },
  {
   "cell_type": "markdown",
   "metadata": {},
   "source": [
    "**HW 7 Problem 3**. Let $\\lambda_1, \\dots, \\lambda_n$ be complex eigenvalues of an $n \\times n$ matrix $A$ counting with multiplicity. Show that\n",
    "\n",
    "$$\\det(A) = \\lambda_1 \\cdots \\lambda_n.$$"
   ]
  }
 ],
 "metadata": {
  "kernelspec": {
   "display_name": "Python 3",
   "language": "python",
   "name": "python3"
  },
  "language_info": {
   "codemirror_mode": {
    "name": "ipython",
    "version": 3
   },
   "file_extension": ".py",
   "mimetype": "text/x-python",
   "name": "python",
   "nbconvert_exporter": "python",
   "pygments_lexer": "ipython3",
   "version": "3.12.1"
  }
 },
 "nbformat": 4,
 "nbformat_minor": 2
}
