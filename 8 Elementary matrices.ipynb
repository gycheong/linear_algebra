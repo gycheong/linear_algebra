{
 "cells": [
  {
   "cell_type": "markdown",
   "metadata": {},
   "source": [
    "# $\\S8$. Elementary matrices"
   ]
  },
  {
   "cell_type": "markdown",
   "metadata": {},
   "source": [
    "**Author**: [Gilyoung Cheong](https://www.linkedin.com/in/gycheong/)\n",
    "\n",
    "**References**\n",
    "* [\"Linear Algebra Done Wrong\" by Sergei Treil](https://sites.google.com/a/brown.edu/sergei-treil-homepage/linear-algebra-done-wrong): Chapter 2 Section 2"
   ]
  },
  {
   "cell_type": "markdown",
   "metadata": {},
   "source": [
    "## Row operations as left multiplication by elementary matrices\n",
    "\n",
    "We start with some exercises:\n",
    "\n",
    "**Exercise**. (1) Given $\\alpha \\in \\mathbb{F}$, write down a $2 \\times 2$ matrix $E_{2,1,\\alpha}$ such that for any $e, f \\in \\mathbb{F}$, we have\n",
    "$$E_{2,1,\\alpha} \\begin{bmatrix}\n",
    "e \\\\\n",
    "f\n",
    "\\end{bmatrix}\n",
    "= \\begin{bmatrix}\n",
    "e \\\\\n",
    "f + \\alpha e\n",
    "\\end{bmatrix}.$$\n",
    "\n",
    "(2) Show that such a matrix $E_{2,1,\\alpha}$ is unique and also satisfies\n",
    "$$E_{2,1,\\alpha} \\begin{bmatrix}\n",
    "a & b \\\\\n",
    "c & d\n",
    "\\end{bmatrix}\n",
    "= \\begin{bmatrix}\n",
    "a & b \\\\\n",
    "c + \\alpha a & d + \\alpha b\n",
    "\\end{bmatrix}$$\n",
    "\n",
    "for any $a, b, c, d \\in \\mathbb{F}$.\n",
    "\n",
    "(3) Show that $E_{2,1,\\alpha}$ is invertible by explicitly writing down the inverse.\n",
    "\n",
    "**Exercise**. (1) Given $\\beta \\neq 0$ in $\\mathbb{F}$, write down a $2 \\times 2$ matrix $E_{\\beta}$ such that for any $e, f \\in \\mathbb{F}$, we have\n",
    "$$E_{\\beta} \\begin{bmatrix}\n",
    "e \\\\\n",
    "f\n",
    "\\end{bmatrix}\n",
    "= \\begin{bmatrix}\n",
    "\\beta e \\\\\n",
    "\\beta f\n",
    "\\end{bmatrix}.$$\n",
    "\n",
    "(2) Show that such a matrix $E_{1,2}$ is unique and also satisfies\n",
    "$$E_{1,2} \\begin{bmatrix}\n",
    "a & b \\\\\n",
    "c & d\n",
    "\\end{bmatrix}\n",
    "= \\begin{bmatrix}\n",
    "c & d \\\\\n",
    "a & b\n",
    "\\end{bmatrix}$$\n",
    "\n",
    "for any $a, b, c, d \\in \\mathbb{F}$.\n",
    "\n",
    "(3) Show that $E_{\\beta}$ is invertible by explicitly writing down the inverse.\n",
    "\n",
    "**Exercise**. (1) Write down a $2 \\times 2$ matrix $E_{1,2}$ such that for any $e, f \\in \\mathbb{F}$, we have\n",
    "$$E_{1,2} \\begin{bmatrix}\n",
    "e \\\\\n",
    "f\n",
    "\\end{bmatrix}\n",
    "= \\begin{bmatrix}\n",
    "f \\\\\n",
    "e\n",
    "\\end{bmatrix}.$$\n",
    "\n",
    "(2) Show that such a matrix $E_{1,2}$ is unique and also satisfies\n",
    "$$E_{1,2} \\begin{bmatrix}\n",
    "a & b \\\\\n",
    "c & d\n",
    "\\end{bmatrix}\n",
    "= \\begin{bmatrix}\n",
    "c & d \\\\\n",
    "a & b\n",
    "\\end{bmatrix}$$\n",
    "\n",
    "for any $a, b, c, d \\in \\mathbb{F}$.\n",
    "\n",
    "(3) Show that $E_{1,2}$ is invertible by explicitly writing down the inverse."
   ]
  },
  {
   "cell_type": "markdown",
   "metadata": {
    "vscode": {
     "languageId": "plaintext"
    }
   },
   "source": [
    "We then think about this problem more generally. Let $m, n \\in \\mathbb{Z}_{\\geq 1}$ be arbitrary."
   ]
  },
  {
   "cell_type": "markdown",
   "metadata": {},
   "source": [
    "**Exercise 1**. Let $a \\in \\mathbb{F}$ and fix $1 \\leq i \\neq j \\leq m$. Write down an $m \\times m$ matrix whose left multiplication corresponds to the row operation $R_j + a R_i$. Show that such a matrix is unique and we write $E_{j,i,\\alpha}$ to mean it. Show that $E_{j,i,\\alpha}$ is invertible by writing down an explicit inverse."
   ]
  },
  {
   "cell_type": "markdown",
   "metadata": {},
   "source": [
    "**Exercise 2**. Let $c \\neq 0 \\in \\mathbb{F}$ and $1 \\leq i \\leq m$. Write down an $m \\times m$ matrix whose left multiplication corresponds to the row operation $c R_i$. Show that such a matrix is unique and we write $E_{c}$ to mean it. Show that $E_{c}$ is invertible by writing down an explicit inverse."
   ]
  },
  {
   "cell_type": "markdown",
   "metadata": {},
   "source": [
    "**Exercise 3**. Fix $1 \\leq i, j \\leq m$. Write down an $m \\times m$ matrix whose left multiplication corresponds to the row operation $R_i \\leftrightarrow R_j$. Show that such a matrix is unique and we write $E_{i,j}$ to mean it. Show that $E_{j,i}$ is invertible by writing down an explicit inverse."
   ]
  },
  {
   "cell_type": "markdown",
   "metadata": {},
   "source": [
    "We say that the $m \\times m$ invertible matrices from Exercises 1, 2, and 3 above are **elementary matrices**. For the following problem, you may assume the following fact without proof:\n",
    "\n",
    "**Fact**. Any matrix can be made into a unique **reduced echelon form** by applying finitely many row operations. (For the definition of a reduced echelon form, see p.45 of your textbook.)\n",
    "\n",
    "**HW 3 Problem 1**. Show that every $m \\times m$ invertible matrix is a product of a finitely many $m \\times m$ elementary matrices."
   ]
  },
  {
   "cell_type": "markdown",
   "metadata": {},
   "source": [
    "We shall consider a reduced echelon form that is not the identity matrix in the following exericse:\n",
    "\n",
    "**Exercise**. Solve the following system:\n",
    "\n",
    "$$\\left\\{\n",
    "\t\\begin{array}{ll}\n",
    "\tx_{1} + 2x_{2} - x_{3} + 2x_{4} = 2,  \\\\\n",
    "\t2x_1 + 4x_{2} - x_{3} + 6x_4 = 5, \\\\\n",
    "\tx_{2} + 2x_{4} = 3.\n",
    "\t\\end{array}\\right.$$"
   ]
  }
 ],
 "metadata": {
  "kernelspec": {
   "display_name": "Python 3",
   "language": "python",
   "name": "python3"
  },
  "language_info": {
   "codemirror_mode": {
    "name": "ipython",
    "version": 3
   },
   "file_extension": ".py",
   "mimetype": "text/x-python",
   "name": "python",
   "nbconvert_exporter": "python",
   "pygments_lexer": "ipython3",
   "version": "3.12.1"
  }
 },
 "nbformat": 4,
 "nbformat_minor": 2
}
