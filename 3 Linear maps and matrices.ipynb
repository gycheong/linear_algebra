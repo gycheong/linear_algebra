{
 "cells": [
  {
   "cell_type": "markdown",
   "metadata": {},
   "source": [
    "# $\\S3$. Linear maps and matrices"
   ]
  },
  {
   "cell_type": "markdown",
   "metadata": {},
   "source": [
    "**Author**: [Gilyoung Cheong](https://www.linkedin.com/in/gycheong/)\n",
    "\n",
    "**References**\n",
    "* [\"Linear Algebra Done Wrong\" by Sergei Treil](https://sites.google.com/a/brown.edu/sergei-treil-homepage/linear-algebra-done-wrong)"
   ]
  },
  {
   "cell_type": "markdown",
   "metadata": {},
   "source": [
    "Let $V$ and $W$ be vector spaces over $\\mathbb{F}$. A map $T : V \\rightarrow W$ is said to be **linear** (or more precisely **$\\mathbb{F}$-linear**) if\n",
    "\n",
    "* $T(\\boldsymbol{u} + \\boldsymbol{v}) = T(\\boldsymbol{u}) + T(\\boldsymbol{v})$ for all $\\boldsymbol{u}, \\boldsymbol{v} \\in V$ and\n",
    "* $T(a \\boldsymbol{v}) = a T(\\boldsymbol{v})$ for all $\\boldsymbol{v} \\in V$ and $a \\in \\mathbb{F}$."
   ]
  },
  {
   "cell_type": "markdown",
   "metadata": {},
   "source": [
    "**Exercise.** Given $n \\in \\mathbb{Z}_{\\geq 1}$, take\n",
    "* $V = \\mathbb{R}[t]_{\\leq n}$ and\n",
    "* $W = \\mathbb{R}[t]_{\\leq n-1}$.\n",
    "\n",
    "Define $T : V \\rightarrow W$ by $f(t) \\mapsto f'(t)$, taking derivative. Show that $T$ is a linear map."
   ]
  },
  {
   "cell_type": "markdown",
   "metadata": {},
   "source": [
    "**Exercise**. Given an $m \\times n$ matrix $X$ over $\\mathbb{F}$, explain how $X$ can be thought as a linear map $X : \\mathbb{F}^n \\rightarrow \\mathbb{F}^m$ by multiplication on the left."
   ]
  },
  {
   "cell_type": "markdown",
   "metadata": {},
   "source": [
    "**HW 1 Problem 2**. Given a real number $\\theta \\geq 0$. Write down a $2 \\times 2$ matrix $X$ that defines a linear map $X : \\mathbb{R}^2 \\rightarrow \\mathbb{R}^2$ that rotates any vector by $\\theta$ (in radian)."
   ]
  },
  {
   "cell_type": "markdown",
   "metadata": {},
   "source": [
    "**Exercise**. Given a linear map $T : \\mathbb{F}^n \\rightarrow \\mathbb{F}^m$, show that the $m \\times n$ matrix $X$ whose columns are given by $T(\\boldsymbol{e}_1), \\dots, T(\\boldsymbol{e}_n)$ is equal to $T$ as a linear map from $\\mathbb{F}^n$ to $\\mathbb{F}^m$."
   ]
  },
  {
   "cell_type": "markdown",
   "metadata": {},
   "source": [
    "**Exercise**. Let $X$ be an $m \\times n$ matrix with columns $\\boldsymbol{x}_1, \\dots, \\boldsymbol{x}_n \\in \\mathbb{R}^m$. For any\n",
    "$$\\boldsymbol{v} = \\begin{bmatrix}\n",
    "v_1 \\\\\n",
    "v_2 \\\\\n",
    "\\vdots \\\\\n",
    "v_m\n",
    "\\end{bmatrix} \\in \\mathbb{R}^n,$$\n",
    "\n",
    "show that\n",
    "\n",
    "$$X \\boldsymbol{v} = v_1\\boldsymbol{x}_1 + \\cdots + v_n\\boldsymbol{x}_n.$$"
   ]
  },
  {
   "cell_type": "markdown",
   "metadata": {},
   "source": [
    "**HW 1 Problem 3** Fix any $n \\in \\mathbb{Z}_{\\geq 1}$ and let $X = (x_{ij})_{i,j=1}^{n}$ be any $n \\times n$ matrix such that every entry is $0$ except the supdiagonal entries (i.e., the entries of the form $x_{i,i+1}$). Show that $X^n = 0$."
   ]
  },
  {
   "cell_type": "code",
   "execution_count": 6,
   "metadata": {},
   "outputs": [
    {
     "name": "stdout",
     "output_type": "stream",
     "text": [
      "X = \n",
      " [[0 2 0 0]\n",
      " [0 0 3 0]\n",
      " [0 0 0 9]\n",
      " [0 0 0 0]]\n",
      "X^2 = \n",
      " [[ 0  0  6  0]\n",
      " [ 0  0  0 27]\n",
      " [ 0  0  0  0]\n",
      " [ 0  0  0  0]]\n",
      "X^3 = \n",
      " [[ 0  0  0 54]\n",
      " [ 0  0  0  0]\n",
      " [ 0  0  0  0]\n",
      " [ 0  0  0  0]]\n",
      "X^4 = \n",
      " [[0 0 0 0]\n",
      " [0 0 0 0]\n",
      " [0 0 0 0]\n",
      " [0 0 0 0]]\n"
     ]
    }
   ],
   "source": [
    "# This is not a proof, but an illustration\n",
    "\n",
    "import numpy as np\n",
    "\n",
    "X = np.matrix([[0, 2, 0, 0], \n",
    "     [0, 0, 3, 0],\n",
    "     [0, 0, 0, 9],\n",
    "     [0, 0, 0, 0]])\n",
    "\n",
    "print(f\"X = \\n {X}\")\n",
    "print(f\"X^2 = \\n {X**2}\")\n",
    "print(f\"X^3 = \\n {X**3}\")\n",
    "print(f\"X^4 = \\n {X**4}\")"
   ]
  }
 ],
 "metadata": {
  "kernelspec": {
   "display_name": "Python 3",
   "language": "python",
   "name": "python3"
  },
  "language_info": {
   "codemirror_mode": {
    "name": "ipython",
    "version": 3
   },
   "file_extension": ".py",
   "mimetype": "text/x-python",
   "name": "python",
   "nbconvert_exporter": "python",
   "pygments_lexer": "ipython3",
   "version": "3.12.1"
  }
 },
 "nbformat": 4,
 "nbformat_minor": 2
}
