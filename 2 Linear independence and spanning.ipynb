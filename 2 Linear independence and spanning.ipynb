{
 "cells": [
  {
   "cell_type": "markdown",
   "metadata": {},
   "source": [
    "# $\\S2$. Linear independence and spanning"
   ]
  },
  {
   "cell_type": "markdown",
   "metadata": {},
   "source": [
    "**Author**: [Gilyoung Cheong](https://www.linkedin.com/in/gycheong/)\n",
    "\n",
    "**References**\n",
    "* [\"Linear Algebra Done Wrong\" by Sergei Treil](https://sites.google.com/a/brown.edu/sergei-treil-homepage/linear-algebra-done-wrong)"
   ]
  },
  {
   "cell_type": "markdown",
   "metadata": {},
   "source": [
    "Let $V$ be a vector space over $\\mathbb{F}$. Fix finitely many vectors $\\boldsymbol{v}_1, \\dots, \\boldsymbol{v}_n \\in V$. \n",
    "* The given vectors are said to be **linearly independent** if the only solution to the system \n",
    "$$x_1\\boldsymbol{v}_1 + \\cdots + x_n\\boldsymbol{v}_n = \\boldsymbol{0}$$\n",
    "is $(x_1, \\dots, x_n) = (0, \\dots, 0)$.\n",
    "\n",
    "**Remark**. It is possible to discuss linear independence of infinitely many vectors. The definition can be found in \"Infinite case\" section of [this Wikipedia article](https://en.wikipedia.org/wiki/Linear_independence). In this course, we will not study such situation. \n",
    "\n",
    "* The given vectors are said to **span** (or **generate**) $V$ if every vector of $V$ can be written as an $\\mathbb{F}$-linear combination of $\\boldsymbol{v}_1, \\dots, \\boldsymbol{v}_n$."
   ]
  },
  {
   "cell_type": "markdown",
   "metadata": {},
   "source": [
    "**Exercise.** Let $\\boldsymbol{v}_1, \\dots, \\boldsymbol{v}_n$ be vectors in $V$. Show that they form a basis for $V$ if and only if for every $\\boldsymbol{v} \\in V$, there is one and only solution to the system\n",
    "$$x_1\\boldsymbol{v}_1 + \\dots + x_n\\boldsymbol{v}_n = \\boldsymbol{v}$$\n",
    "in $(x_1, \\dots, x_n)$.\n"
   ]
  },
  {
   "cell_type": "markdown",
   "metadata": {},
   "source": [
    "**Exercise**. Consider $V = \\mathbb{F}^n$ with fixed $n \\in \\mathbb{Z}_{\\geq 1}$. Show that the **standard vectors** $\\boldsymbol{e}_1, \\dots, \\boldsymbol{e}_n$, where $\\boldsymbol{e}_i$ is given by the $n \\times 1$ column vector whose $i$-th component is $1$ and every other component is $0$, form a basis for $V$. (This basis is called the **standard basis** for $\\mathbb{F}^n$.)"
   ]
  },
  {
   "cell_type": "markdown",
   "metadata": {},
   "source": [
    "**Exercise**. Consider $V = \\mathbb{F}[t]_{\\leq n}$. Show that $1, t, t^2, \\dots, t^n$ form a basis for $V$."
   ]
  },
  {
   "cell_type": "markdown",
   "metadata": {},
   "source": [
    "**HW 1 Problem 1**. Given finitely many vectors $\\boldsymbol{v}_1, \\dots, \\boldsymbol{v}_n$ be vectors in $V$, show that the vectors are linearly indepdnent if and only if each $\\boldsymbol{v}_i$ can NOT be written as linear combination of other vectors $\\boldsymbol{v}_1, \\dots, \\boldsymbol{v}_{i-1}, \\boldsymbol{v}_{i+1}, \\dots, \\boldsymbol{v}_n$."
   ]
  },
  {
   "cell_type": "markdown",
   "metadata": {},
   "source": [
    "**Proposition** Given any vectors $\\boldsymbol{v}_1, \\dots, \\boldsymbol{v}_m \\in V$ that span $V$, there must be a subset of them that form a basis of $V$.\n",
    "\n",
    "*Proof*. If there is some vector that can be written as a linear combination of others, throw it away. Repeat the same process until there is no more such vector left. This process must end because we only have finitely many vectors to begin with, say what we have left are $v_{i_1}, \\dots, v_{i_k}$. The linear independece of $v_{i_1}, \\dots, v_{i_k}$ follows from HW 1 Problem 1. This finishes the proof. $\\Box$\n",
    "\n",
    "**Remark**. Note that the proof does not give any way to figure out what the indices $i_1, \\dots, i_k$ are. I thank Emeric Battaglia for pointing this out."
   ]
  }
 ],
 "metadata": {
  "language_info": {
   "name": "python"
  }
 },
 "nbformat": 4,
 "nbformat_minor": 2
}
