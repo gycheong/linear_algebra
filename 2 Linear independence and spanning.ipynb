{
 "cells": [
  {
   "cell_type": "markdown",
   "metadata": {},
   "source": [
    "# $\\S2$. Linear independence and spanning"
   ]
  },
  {
   "cell_type": "markdown",
   "metadata": {},
   "source": [
    "**Author**: [Gilyoung Cheong](https://www.linkedin.com/in/gycheong/)\n",
    "\n",
    "**References**\n",
    "* [\"Linear Algebra Done Wrong\" by Sergei Treil](https://sites.google.com/a/brown.edu/sergei-treil-homepage/linear-algebra-done-wrong)"
   ]
  },
  {
   "cell_type": "markdown",
   "metadata": {},
   "source": [
    "Let $V$ be a vector space over $\\mathbb{F}$. Fix finitely many vectors $\\boldsymbol{v}_1, \\dots, \\boldsymbol{v}_n \\in V$. \n",
    "* The given vectors are said to be **linearly independent** if the only solution to the system \n",
    "$$x_1\\boldsymbol{v}_1 + \\cdots + x_n\\boldsymbol{v}_n = \\boldsymbol{0}$$\n",
    "is $(x_1, \\dots, x_n) = (0, \\dots, 0)$.\n",
    "\n",
    "**Remark**. It is possible to discuss linear independence of infinitely many vectors. The definition can be found in \"Infinite case\" section of [this Wikipedia article](https://en.wikipedia.org/wiki/Linear_independence). In this course, we will not study such situation. \n",
    "\n",
    "* The given vectors are said to **span** (or **generate**) $V$ if every vector of $V$ can be written as an $\\mathbb{F}$-linear combination of $\\boldsymbol{v}_1, \\dots, \\boldsymbol{v}_n$."
   ]
  },
  {
   "cell_type": "markdown",
   "metadata": {},
   "source": [
    "**Exercise.** Let $\\boldsymbol{v}_1, \\dots, \\boldsymbol{v}_n$ be vectors in $V$. Show that they form a basis for $V$ if and only if for every $\\boldsymbol{v} \\in V$, there is one and only solution to the system\n",
    "$$x_1\\boldsymbol{v}_1 + \\dots + x_n\\boldsymbol{v}_n = \\boldsymbol{v}$$\n",
    "in $(x_1, \\dots, x_n)$.\n"
   ]
  },
  {
   "cell_type": "markdown",
   "metadata": {},
   "source": [
    "**Exercise**. Consider $V = \\mathbb{F}^n$ with fixed $n \\in \\mathbb{Z}_{\\geq 1}$. Show that the **standard vectors** $\\boldsymbol{e}_1, \\dots, \\boldsymbol{e}_n$, where $\\boldsymbol{e}_i$ is given by the $n \\times 1$ column vector whose $i$-th component is $1$ and every other component is $0$, form a basis for $V$. (This basis is called the **standard basis** for $\\mathbb{F}^n$.)"
   ]
  },
  {
   "cell_type": "markdown",
   "metadata": {},
   "source": [
    "**Exercise**. Consider $V = \\mathbb{F}[t]_{\\leq n}$. Show that $1, t, t^2, \\dots, t^n$ form a basis for $V$."
   ]
  },
  {
   "cell_type": "markdown",
   "metadata": {},
   "source": [
    "**HW 1 Problem 1**. Given finitely many vectors $\\boldsymbol{v}_1, \\dots, \\boldsymbol{v}_n$ be vectors in $V$, show that the vectors are linearly indepdnent if and only if each $\\boldsymbol{v}_i$ can be written as linear combination of other vectors $\\boldsymbol{v}_1, \\dots, \\boldsymbol{v}_{i-1}, \\boldsymbol{v}_{i+1}, \\dots, \\boldsymbol{v}_n$."
   ]
  },
  {
   "cell_type": "markdown",
   "metadata": {},
   "source": [
    "**Proposition** Given any vectors $\\boldsymbol{v}_1, \\dots, \\boldsymbol{v}_m \\in V$ that span $V$, there must be a subset of them that form a basis of $V$.\n",
    "\n",
    "*Proof*. We go through each vector as follows. We keep $\\boldsymbol{v}_m$ if it cannot be written as a linear combination of other vectors $\\boldsymbol{v}_1, \\dots, \\boldsymbol{v}_{m-1}$. If this is the case, then stop.\n",
    "\n",
    "Otherwise, we throw $\\boldsymbol{v}_m$ away. Next we keep $\\boldsymbol{v}_{m-1}$ if it cannot be written as a linear combination of other remaining vectors $\\boldsymbol{v}_1, \\dots, \\boldsymbol{v}_{m-2}$. If this is the case, then stop.\n",
    "\n",
    "Otherwise, we throw $\\boldsymbol{v}_{m-1}$ away and continue similarly.\n",
    "\n",
    "This process terminates in finitely many steps, and at the end we end up having $\\boldsymbol{v}_1, \\dots, \\boldsymbol{v}_{m-i}$ for some $1 \\leq i \\leq m$. From the way it is consturcted, the set of linear combinations of $\\boldsymbol{v}_1, \\dots, \\boldsymbol{v}_{m-i}$ (i.e., the **span** of such vectors) must contain $\\boldsymbol{v}_{m-i+1}, \\boldsymbol{v}_{m-i+2}, \\dots, \\boldsymbol{v}_{m}$. Hence $\\boldsymbol{v}_1, \\dots, \\boldsymbol{v}_{m-i}$ must span $V$. The linear independence of $\\boldsymbol{v}_1, \\dots, \\boldsymbol{v}_{m-i}$ follows from HW 1 Problem 1. This finishes the proof. $\\Box$"
   ]
  }
 ],
 "metadata": {
  "language_info": {
   "name": "python"
  }
 },
 "nbformat": 4,
 "nbformat_minor": 2
}
