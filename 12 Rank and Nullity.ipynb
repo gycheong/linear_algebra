{
 "cells": [
  {
   "cell_type": "markdown",
   "metadata": {},
   "source": [
    "# $\\S12$. Rank and Nullity"
   ]
  },
  {
   "cell_type": "markdown",
   "metadata": {},
   "source": [
    "**Author**: [Gilyoung Cheong](https://www.linkedin.com/in/gycheong/)\n",
    "\n",
    "**References**\n",
    "* [\"Linear Algebra Done Wrong\" by Sergei Treil](https://sites.google.com/a/brown.edu/sergei-treil-homepage/linear-algebra-done-wrong): Chapter 2 Sections 7 and 8 (Section 8 are covered in HW 4)"
   ]
  },
  {
   "cell_type": "markdown",
   "metadata": {},
   "source": [
    "## Rank of a linear map and a matrix\n",
    "\n",
    "Let $V$ and $W$ be finite dimensional vector spaces over $\\mathbb{F}$ and say $\\phi : V \\rightarrow W$ is a linear map. The **rank** of $\\phi$ means the dimension of the subspace $\\phi(V)$ of $W$. That is, we define\n",
    "$$\\mathrm{rank}(\\phi) := \\dim(\\phi(V)).$$\n",
    "\n",
    "We say that the dimension of $\\ker(\\phi)$ is the **nullity** of $\\phi$.\n",
    "\n",
    "Given any $m \\times n$ matrix $A$, we define the **rank** of $A$ to be the rank of the linear map $A : \\mathbb{F}^n \\rightarrow \\mathbb{F}^m$. Define the **nullity** of $A$ similarly.\n",
    "\n",
    "**Definition**. We also call the range of $A$ (namely $A(\\mathbb{F}^m)$) the **column space** of $A$ and often write it as $\\mathrm{col}(A)$."
   ]
  },
  {
   "cell_type": "markdown",
   "metadata": {},
   "source": [
    "**Exericse**. Given an linear map $\\phi : V \\rightarrow W$. Show that for any injective linear map $\\psi : W \\rightarrow U$, we have\n",
    "$$\\mathrm{rank}(\\psi \\circ \\phi) = \\mathrm{rank}(\\phi).$$"
   ]
  },
  {
   "cell_type": "markdown",
   "metadata": {},
   "source": [
    "**Exercise**. (1) Compute the rank of the following matrix\n",
    "\n",
    "$$A = \\begin{bmatrix}\n",
    "1 & 1 & 2 & 2 & 1 \\\\\n",
    "2 & 2 & 1 & 1 & 1 \\\\\n",
    "3 & 3 & 3 & 3 & 2 \\\\\n",
    "1 & 1 & -1 & -1 & 0\n",
    "\\end{bmatrix}.$$\n",
    "\n",
    "(2) Give a basis to $\\mathrm{col}(A)$.\n",
    "\n",
    "(3) Compute the nullity of $A$ by explicitly describing $\\ker(A)$.\n",
    "\n",
    "Hint: First, show that\n",
    "\n",
    "$$\\mathrm{REF}(A) = \\begin{bmatrix}\n",
    "1 & 1 & 0 & 0 & 1/3 \\\\\n",
    "0 & 0 & 1 & 1 & 1/3 \\\\\n",
    "0 & 0 & 0 & 0 & 0 \\\\\n",
    "0 & 0 & 0 & 0 & 0\n",
    "\\end{bmatrix}.$$"
   ]
  },
  {
   "cell_type": "markdown",
   "metadata": {},
   "source": [
    "Given any $m \\times n$ matrix $A$, observe that the number of free variables for the homogeneous system $A\\boldsymbol{x} = \\boldsymbol{0}$ is precisely the nullity of $A$. Since that number is the same as the number of pivot $1$'s in $\\mathrm{REF}(A)$, this proves the following theorem:\n",
    "\n",
    "**Theorem (Rank-Nullity Theorem)**. Given any $m \\times n$ matrix $A$, we have\n",
    "\n",
    "$$\\mathrm{rank}(A) + \\dim(\\ker(A)) = n.$$"
   ]
  },
  {
   "cell_type": "markdown",
   "metadata": {},
   "source": [
    "## Column Rank = Row Rank\n",
    "\n",
    "Given an $m \\times n$ matrix $A$, if we consider the rows of $A$ as vectors in $\\mathbb{F}^n$, it is precisely the image of $A^T$. Hence, we may say that $\\mathrm{rank}(A^T)$ is the row rank of $A$.\n",
    "\n",
    "**Theorem**. We have $\\mathrm{rank}(A^T) = \\mathrm{rank}(A)$.\n",
    "\n",
    "*Proof*. Note that $\\mathrm{rank}(A)$ is the number of rows that have pivot $1$ in $\\mathrm{REF}(A)$. Since all nonzero rows of $\\mathrm{REF}(A)$ are linearly independent, the result follows. $\\Box$"
   ]
  },
  {
   "cell_type": "markdown",
   "metadata": {},
   "source": [
    "**Exercise**. Let $A$ be an $m \\times n$ matrix. Show that $\\mathrm{rank}(A) \\leq \\min(m, n)$."
   ]
  },
  {
   "cell_type": "markdown",
   "metadata": {},
   "source": [
    "**HW 4 Problem 1**. Let $A$ be an $n \\times n$ matrix. Show that $A$ is invertible if and only if $\\mathrm{rank}(A) = n$."
   ]
  },
  {
   "cell_type": "markdown",
   "metadata": {},
   "source": [
    "**HW 4 Problem 2**. Let $V$ and $W$ be finite-dimensional vector spaces over $\\mathbb{F}$ and let $\\phi : V \\rightarrow W$ be a linear map. Write $n = \\dim(V)$ and $m = \\dim(W)$, and say\n",
    "* $\\boldsymbol{v}_1, \\dots, \\boldsymbol{v}_n$ form a basis for $V$ and\n",
    "* $\\boldsymbol{w}_1, \\dots, \\boldsymbol{w}_m$ form a basis for $W$.\n",
    "\n",
    "For each $1 \\leq j \\leq n$, we can uniquely write\n",
    "\n",
    "$$\\phi(\\boldsymbol{v}_j) = \\sum_{i=1}^n a_{ij} \\boldsymbol{w}_i,$$\n",
    "\n",
    "where $a_{ij} \\in \\mathbb{F}$. Consider the $m \\times n$ matrix $A$ whose $(i,j)$-entry is $a_{ij}$, and let\n",
    "* $\\psi_V : \\mathbb{F}^n \\rightarrow V$ be the linear isomorphism given by $\\boldsymbol{e}_j \\mapsto \\boldsymbol{v}_j$ for $1 \\leq j \\leq n$ and\n",
    "* $\\psi_W : \\mathbb{F}^m \\rightarrow W$ be the linear isomorphism given by $\\boldsymbol{e}_i \\mapsto \\boldsymbol{w}_i$ for $1 \\leq i \\leq m$.\n",
    "\n",
    "Show that $A = \\psi_W^{-1} \\phi \\psi_V$.\n",
    "\n",
    "**Remark**. This is how you think of an abstract linear map $\\phi$ as a concrete matrix $A$."
   ]
  },
  {
   "cell_type": "markdown",
   "metadata": {},
   "source": [
    "**HW 4 Problem 3**. Let $\\boldsymbol{v}_1, \\dots, \\boldsymbol{v}_n$ form a basis for $\\mathbb{F}^n$, and let $Q$ be the $n \\times n$ invertible matrix whose columns are given by $\\boldsymbol{v}_1, \\dots, \\boldsymbol{v}_n$. Consider any $n \\times n$ matrix $B$. For each $1 \\leq j \\leq n$, we may uniquely write\n",
    "\n",
    "$$B\\boldsymbol{v}_j = \\sum_{i=1}^n a_{ij} \\boldsymbol{v}_i,$$\n",
    "\n",
    "where $a_{ij} \\in \\mathbb{F}$. Given any $1 \\leq i, j \\leq n$, what is the $(i,j)$-entry of $Q^{-1}BQ$?"
   ]
  },
  {
   "cell_type": "markdown",
   "metadata": {},
   "source": [
    "**HW 4 Problem 4**. Consider the following $2 \\times 2$ matrix\n",
    "\n",
    "$$B = \\begin{bmatrix}\n",
    "1 & 1 \\\\\n",
    "-1 & -1\n",
    "\\end{bmatrix}.$$\n",
    "\n",
    "Let $\\boldsymbol{v}_1 := \\boldsymbol{e}_1$ and $\\boldsymbol{v}_2 := B \\boldsymbol{e}_1$. Show that the $2 \\times 2$ matrix $Q := [\\boldsymbol{v}_1 | \\boldsymbol{v}_2]$ is invertible. Then compute \n",
    "* $Q^{-1}BQ$,\n",
    "* $(Q^{-1}BQ)^2$, and\n",
    "* $B^2$."
   ]
  }
 ],
 "metadata": {
  "kernelspec": {
   "display_name": "Python 3",
   "language": "python",
   "name": "python3"
  },
  "language_info": {
   "codemirror_mode": {
    "name": "ipython",
    "version": 3
   },
   "file_extension": ".py",
   "mimetype": "text/x-python",
   "name": "python",
   "nbconvert_exporter": "python",
   "pygments_lexer": "ipython3",
   "version": "3.12.1"
  }
 },
 "nbformat": 4,
 "nbformat_minor": 2
}
