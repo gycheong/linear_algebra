{
 "cells": [
  {
   "cell_type": "markdown",
   "metadata": {},
   "source": [
    "# $\\S12$. Rank and Nullity"
   ]
  },
  {
   "cell_type": "markdown",
   "metadata": {},
   "source": [
    "**Author**: [Gilyoung Cheong](https://www.linkedin.com/in/gycheong/)\n",
    "\n",
    "**References**\n",
    "* [\"Linear Algebra Done Wrong\" by Sergei Treil](https://sites.google.com/a/brown.edu/sergei-treil-homepage/linear-algebra-done-wrong): Chapter 2 Section 7"
   ]
  },
  {
   "cell_type": "markdown",
   "metadata": {},
   "source": [
    "## Rank of a linear map and a matrix\n",
    "\n",
    "Let $V$ and $W$ be finite dimensional vector spaces over $\\mathbb{F}$ and say $\\phi : V \\rightarrow W$ is a linear map. The **rank** of $\\phi$ means the dimension of the subspace $\\phi(V)$ of $W$. That is, we define\n",
    "$$\\mathrm{rank}(\\phi) := \\dim(\\phi(\\phi)).$$\n",
    "\n",
    "We say that the dimension of $\\ker(\\phi)$ is the **nullity** of $\\phi$.\n",
    "\n",
    "Given any $m \\times n$ matrix $A$, we define the **rank** of $A$ to be the rank of the linear map $A : \\mathbb{F}^n \\rightarrow \\mathbb{F}^m$. Define the **nullity** of $A$ similarly.\n",
    "\n",
    "**Definition**. We also call the range of $A$ (namely $A(\\mathbb{F}^m)$) the **column space** of $A$ and often write it as $\\mathrm{col}(A)$."
   ]
  },
  {
   "cell_type": "markdown",
   "metadata": {},
   "source": [
    "**Exericse**. Given an linear map $\\phi : V \\rightarrow W$. Show that for any injective linear map $\\psi : U \\rightarrow V$, we have\n",
    "$$\\mathrm{rank}(\\psi \\circ \\phi) = \\mathrm{rank}(\\phi).$$"
   ]
  },
  {
   "cell_type": "markdown",
   "metadata": {},
   "source": [
    "**Exercise**. (1) Compute the rank of the following matrix\n",
    "\n",
    "$$A = \\begin{bmatrix}\n",
    "1 & 1 & 2 & 2 & 1 \\\\\n",
    "2 & 2 & 1 & 1 & 1 \\\\\n",
    "3 & 3 & 3 & 3 & 2 \\\\\n",
    "1 & 1 & -1 & -1 & 0\n",
    "\\end{bmatrix}.$$\n",
    "\n",
    "(2) Give a basis to $\\mathrm{col}(A)$.\n",
    "\n",
    "(3) Compute the nullity of $A$ by explicitly describing $\\ker(A)$."
   ]
  },
  {
   "cell_type": "markdown",
   "metadata": {},
   "source": [
    "Given any $m \\times n$ matrix $A$, observe that the number of free variables for the homogeneous system $A\\boldsymbol{x} = \\boldsymbol{0}$ is precisely the nullity of $A$. Since that number is the same as the number of pivot $1$'s in $\\mathrm{REF}(A)$, this proves the following theorem:\n",
    "\n",
    "**Theorem (Rank-Nullity Theorem)**. Given any $m \\times n$ matrix $A$, we have\n",
    "\n",
    "$$\\mathrm{rank}(A) + \\dim(\\ker(A)) = n.$$"
   ]
  }
 ],
 "metadata": {
  "kernelspec": {
   "display_name": "Python 3",
   "language": "python",
   "name": "python3"
  },
  "language_info": {
   "codemirror_mode": {
    "name": "ipython",
    "version": 3
   },
   "file_extension": ".py",
   "mimetype": "text/x-python",
   "name": "python",
   "nbconvert_exporter": "python",
   "pygments_lexer": "ipython3",
   "version": "3.12.1"
  }
 },
 "nbformat": 4,
 "nbformat_minor": 2
}
