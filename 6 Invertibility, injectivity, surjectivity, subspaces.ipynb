{
 "cells": [
  {
   "cell_type": "markdown",
   "metadata": {},
   "source": [
    "# $\\S6$. Invertibility, injectivity, surjectivity, and subspaces "
   ]
  },
  {
   "cell_type": "markdown",
   "metadata": {},
   "source": [
    "**Author**: [Gilyoung Cheong](https://www.linkedin.com/in/gycheong/)\n",
    "\n",
    "**References**\n",
    "* [\"Linear Algebra Done Wrong\" by Sergei Treil](https://sites.google.com/a/brown.edu/sergei-treil-homepage/linear-algebra-done-wrong): Chapter 1 Sections 6 and 7"
   ]
  },
  {
   "cell_type": "markdown",
   "metadata": {},
   "source": [
    "## Invertibitiliy\n",
    "\n",
    "Let $T : V \\rightarrow W$ be a linear map between vector spaces over $\\mathbb{F}$. Denote by $\\mathrm{id}_V$ the identity map of $V$.\n",
    "\n",
    "* We say $T$ is **left invertible** if there is some linear map $L : W \\rightarrow V$ such that $L \\circ T = \\mathrm{id}_V$; we call $L$ a **left inverse** of $T$.\n",
    "* We say $T$ is **right invertible** if there is some linear map $R : W \\rightarrow V$ such that $T \\circ R = \\mathrm{id}_W$; we call $R$ a **right inverse** of $T$.\n",
    "\n",
    "**Exercise**. Show that if $T : V \\rightarrow W$ is a linear map that is left invertible and right invertible, then it has a unique left inverse and a unique right inverse. Show that in this case, the left and the right inverses are equal.\n",
    "\n",
    "We say that a linear map $T : V \\rightarrow W$ is **invertible** if it is left invertible and right invertible. In this case, the left inverse of $T$ (or equivalently the right inverse of $T$) is called the **inverse** of $T$ and is denoted by $T^{-1} : W \\rightarrow V$. An invertible linear map is called a linear **isomorphism**."
   ]
  },
  {
   "cell_type": "markdown",
   "metadata": {},
   "source": [
    "## Reviewing injectivity and surjectivity\n",
    "\n",
    "Let $X$ and $Y$ be sets (that are not necessarily vector spaces). Given a map $\\phi : X \\rightarrow Y$, we say that\n",
    "* $\\phi$ is **injective** (or **one-to-one**) if for any $x_1, x_2 \\in X$, having $\\phi(x_1) = \\phi(x_2)$ implies $x_1 = x_2$;\n",
    "* $\\phi$ is **surjective** (or **onto**) if for any $y \\in Y$, there exists $x \\in X$ such that $\\phi(x) = y$.\n",
    "\n",
    "**HW 2 Problem 2**. Given a map $\\phi : X \\rightarrow Y$, show the following statements:\n",
    "1. $\\phi$ is injective if and only if there is some map $\\psi : \\phi(X) \\rightarrow X$ such that $\\psi \\circ \\phi$ is the identity map of $X$;\n",
    "2. $\\phi$ is surjective if and only if there is some map $\\eta : Y \\rightarrow X$ such that $\\phi \\circ \\eta$ is the identity map of $Y$;\n",
    "3. $\\psi$ in Statement 1 is unique per $\\phi$ if it exists.\n",
    "\n",
    "**Remark**. In the above problem, we used the following notation:\n",
    "$$\\phi(X) := \\{\\phi(x) : x \\in X\\},$$\n",
    "which is a subset of $Y$.\n",
    "\n",
    "We say that a map is **bijective** if it is injective and surjective.\n",
    "\n",
    "**HW 2 Problem 3**. Let $T : V \\rightarrow W$ be a linear map. Show that $T$ is invertible if and only if $T$ is bijective."
   ]
  },
  {
   "cell_type": "markdown",
   "metadata": {},
   "source": [
    "## Subspaces\n",
    "\n",
    "**Exercise**. Let $V$ be a vector space over $\\mathbb{F}$. Show that any non-empty subset $W \\subset V$ satisfying the following properties is a vector space over $\\mathbb{F}$ with the addition and the scalar multiplication inherited from $V$:\n",
    "* $\\boldsymbol{u} + \\boldsymbol{v} \\in W$ for all $\\boldsymbol{u}, \\boldsymbol{v} \\in W$;\n",
    "* $a\\boldsymbol{v} \\in W$ for all $a \\in \\mathbb{F}$ and $\\boldsymbol{u}, \\boldsymbol{v} \\in W$.\n",
    "\n",
    "Such a $W$ is called a **subspace** of $V$. The most apparent subspaces of a vector space $V$ are the **trivial subspace** $\\{\\boldsymbol{0}\\}$ and the whole space $V$."
   ]
  },
  {
   "cell_type": "markdown",
   "metadata": {},
   "source": [
    "**Exercise** Let $T : V \\rightarrow W$ be a linear map between vector spaces over $\\mathbb{F}$.\n",
    "\n",
    "1. Show that $\\ker(T) := \\{\\boldsymbol{v} \\in V : T(\\boldsymbol{v}) = \\boldsymbol{0}_W\\}$ is a subspace of $V$.\n",
    "2. Show that $T(V) := \\{T(\\boldsymbol{v}) : \\boldsymbol{v} \\in V\\}$ is a subspace of $W$.\n",
    "\n",
    "We say $\\ker(T)$ is the **kernel** (or **null space**) of $T$ and $T(V)$ is the **image** (or **range**) of $T$."
   ]
  },
  {
   "cell_type": "markdown",
   "metadata": {},
   "source": [
    "**Exercise**. Let $T : V \\rightarrow W$ be a linear map between vector spaces over $\\mathbb{F}$. Show that $T$ is injective if and only if $\\ker(T) = \\{\\boldsymbol{0}_V\\}$.\n",
    "\n",
    "**HW 2 Problem 4**. Let $A$ be an $m \\times n$ matrix so that we can consider the corresponding linear map $A : \\mathbb{F}^n \\rightarrow \\mathbb{F}^m$. \n",
    "* Show that $A$ is injective if and only if $A\\boldsymbol{e}_1, \\dots, A\\boldsymbol{e}_n$ are linearly independent.\n",
    "* Show that $A$ is surjective if and only if $A\\boldsymbol{e}_1, \\dots, A\\boldsymbol{e}_n$ span $\\mathbb{F}^m$.\n",
    "\n",
    "In particular, you may conclude that $A$ is invertible if and only if the columns of $A$ form a basis for $\\mathbb{F}^m$. (In this case, we also have $n = m$, but we shall see this later why this is the case.)"
   ]
  }
 ],
 "metadata": {
  "kernelspec": {
   "display_name": "Python 3",
   "language": "python",
   "name": "python3"
  },
  "language_info": {
   "codemirror_mode": {
    "name": "ipython",
    "version": 3
   },
   "file_extension": ".py",
   "mimetype": "text/x-python",
   "name": "python",
   "nbconvert_exporter": "python",
   "pygments_lexer": "ipython3",
   "version": "3.12.1"
  }
 },
 "nbformat": 4,
 "nbformat_minor": 2
}
