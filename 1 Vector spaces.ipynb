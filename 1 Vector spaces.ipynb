{
 "cells": [
  {
   "cell_type": "markdown",
   "metadata": {},
   "source": [
    "# $\\S1$. Vector spaces"
   ]
  },
  {
   "cell_type": "markdown",
   "metadata": {},
   "source": [
    "**Author**: [Gilyoung Cheong](https://www.linkedin.com/in/gycheong/)\n",
    "\n",
    "**References**\n",
    "* [\"Linear Algebra Done Wrong\" by Sergei Treil](https://sites.google.com/a/brown.edu/sergei-treil-homepage/linear-algebra-done-wrong)"
   ]
  },
  {
   "cell_type": "markdown",
   "metadata": {},
   "source": [
    "We denote by $\\mathbb{F}$ the set of scalars we we work with. Throughout this course, it is assumed that $\\mathbb{F}$ is either $\\mathbb{R}$, the set of real numbers, or $\\mathbb{C}$, the set of complex numbers. The most important properties that we use about $\\mathbb{F}$ are that we can add, subtract, multiply, and divide (by nonzero) in it."
   ]
  },
  {
   "cell_type": "markdown",
   "metadata": {},
   "source": [
    "A **vector space** $V$ over $\\mathbb{F}$ is a set equipped with\n",
    "\n",
    "* $+ : V \\times V \\rightarrow V$ called **addition** and\n",
    "* $\\cdot : \\mathbb{F} \\times V \\rightarrow V$ called **scalar multiplication** that satisfies the following properties:"
   ]
  },
  {
   "cell_type": "markdown",
   "metadata": {},
   "source": [
    "1. $\\boldsymbol{v} + \\boldsymbol{w} = \\boldsymbol{w} + \\boldsymbol{v}$ for all $\\boldsymbol{v}, \\boldsymbol{w} \\in V$;\n",
    "2. $(\\boldsymbol{u} + \\boldsymbol{v}) + \\boldsymbol{w} = \\boldsymbol{u} + (\\boldsymbol{v} + \\boldsymbol{w})$ for all $\\boldsymbol{u}, \\boldsymbol{v}, \\boldsymbol{w} \\in V$;\n",
    "3. there exists $\\boldsymbol{0} \\in V$ such that $\\boldsymbol{v} + \\boldsymbol{0} = \\boldsymbol{v}$ for all $\\boldsymbol{v} \\in V$;\n",
    "4. for every $\\boldsymbol{v} \\in V$, there exists $\\boldsymbol{w}$ such that $\\boldsymbol{v} + \\boldsymbol{w} = \\boldsymbol{0}$ in $V$;\n",
    "5. $1 \\cdot \\boldsymbol{v} = \\boldsymbol{v}$ for all $\\boldsymbol{v} \\in V$;\n",
    "6. $(ab) \\cdot \\boldsymbol{v} = a \\cdot (b \\cdot \\boldsymbol{v})$ for all $a, b \\in \\mathbb{F}$ and $\\boldsymbol{v} \\in V$;\n",
    "7. $a \\cdot (\\boldsymbol{v} + \\boldsymbol{w}) = a \\cdot \\boldsymbol{v} + a \\cdot \\boldsymbol{w}$ for all $\\boldsymbol{v}, \\boldsymbol{w} \\in V$;\n",
    "8. $(a + b) \\cdot \\boldsymbol{v} = a \\cdot \\boldsymbol{v} + b \\cdot \\boldsymbol{v}$ for all $\\boldsymbol{v} \\in V$ and $a, b \\in \\mathbb{F}$.\n",
    "\n",
    "We call the elements of $V$ **vectors**."
   ]
  },
  {
   "cell_type": "markdown",
   "metadata": {},
   "source": [
    "**Exercise**. Show that\n",
    "* $\\boldsymbol{0}$ in Property 3 is unique ;\n",
    "* $\\boldsymbol{w}$ in Property 4 is uniqe for any given $\\boldsymbol{v} \\in V$.\n",
    "\n",
    "Thanks to uniqueness, we call $\\boldsymbol{0} \\in V$ the **zero vector** of $V$. Given $\\boldsymbol{v} \\in V$, we may write $-\\boldsymbol{v}$ to mean the vector that adds to $\\boldsymbol{v}$ to get the zero vector $\\boldsymbol{0}$."
   ]
  },
  {
   "cell_type": "markdown",
   "metadata": {},
   "source": [
    "**Convention**. For any $c \\in \\mathbb{F}$ and $\\boldsymbol{v} \\in V$, we write $c\\boldsymbol{v} := c \\cdot \\boldsymbol{v}$."
   ]
  },
  {
   "cell_type": "markdown",
   "metadata": {},
   "source": [
    "**Exercise**. Show that\n",
    "* $0 \\boldsymbol{v} = \\boldsymbol{0}$ for all $\\boldsymbol{v} \\in V$;\n",
    "* $(-1)\\boldsymbol{v} = -\\boldsymbol{v}$ for all $\\boldsymbol{v} \\in V$."
   ]
  },
  {
   "cell_type": "markdown",
   "metadata": {},
   "source": [
    "**Example**. We define \n",
    "$$\\mathbb{R}^2 := \\left\\{\\begin{bmatrix}x \\\\ y\\end{bmatrix} : x, y \\in \\mathbb{R}\\right\\}$$\n",
    "with the addition given by \n",
    "$$\\begin{bmatrix}x \\\\ y\\end{bmatrix} + \\begin{bmatrix}x' \\\\ y'\\end{bmatrix} := \\begin{bmatrix}x + x' \\\\ y + y'\\end{bmatrix}$$\n",
    "\n",
    "and the scalar multiplication given by\n",
    "$$a\\begin{bmatrix}x \\\\ y\\end{bmatrix} := \\begin{bmatrix}ax \\\\ ay \\end{bmatrix}.$$"
   ]
  },
  {
   "cell_type": "markdown",
   "metadata": {},
   "source": [
    "Denote by $\\mathbb{Z}$ the set of integers. We shall also use labeled notation such as $\\mathbb{Z}_{\\geq 1}$ (meaing positive integers)."
   ]
  },
  {
   "cell_type": "markdown",
   "metadata": {},
   "source": [
    "**Exercise**. Show that $\\mathbb{R}^2$ is a vector space over $\\mathbb{R}$. Define $\\mathbb{F}^n$ with any given $n \\in \\mathbb{Z}_{\\geq 1}$ with analogous addition and scalar multiplication. Show that $\\mathbb{F}^n$ is a vector space over $\\mathbb{F}$."
   ]
  },
  {
   "cell_type": "markdown",
   "metadata": {},
   "source": [
    "**Exercise**. Given $m, n \\in \\mathbb{Z}_{\\geq 1}$, show that the set $\\mathrm{M}_{m,n}(\\mathbb{F})$ of $m \\times n$ matrices over $\\mathbb{F}$ forms a vector space over $\\mathbb{F}$."
   ]
  }
 ],
 "metadata": {
  "language_info": {
   "name": "python"
  }
 },
 "nbformat": 4,
 "nbformat_minor": 2
}
