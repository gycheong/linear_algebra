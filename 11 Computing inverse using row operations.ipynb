{
 "cells": [
  {
   "cell_type": "markdown",
   "metadata": {},
   "source": [
    "# $\\S11$. Computing the inverse of a square matix using row operations"
   ]
  },
  {
   "cell_type": "markdown",
   "metadata": {},
   "source": [
    "**Author**: [Gilyoung Cheong](https://www.linkedin.com/in/gycheong/)\n",
    "\n",
    "**References**\n",
    "* [\"Linear Algebra Done Wrong\" by Sergei Treil](https://sites.google.com/a/brown.edu/sergei-treil-homepage/linear-algebra-done-wrong): Chapter 2 Section 4"
   ]
  },
  {
   "cell_type": "markdown",
   "metadata": {},
   "source": [
    "## Explanation of a methodology via an example\n",
    "\n",
    "We explain how to check whether the following matrix is invertible and how to compute the inverse of it if it is invertible:\n",
    "\n",
    "$$A = \\begin{bmatrix}\n",
    "1 & 4 & -2 \\\\\n",
    "-2 & -7 & 7 \\\\\n",
    "3 & 11 & -6\n",
    "\\end{bmatrix}.$$\n",
    "\n",
    "We first consider the $3 \\times 6$ augmented matrix\n",
    "$$[A | I_3] = \n",
    "\\begin{bmatrix}\n",
    "1 & 4 & -2 & \\big| & 1 & 0 & 0\\\\\n",
    "-2 & -7 & 7 & \\bigg| & 0 & 1 & 0 \\\\\n",
    "3 & 11 & -6 & \\big| & 0 & 0 & 1\n",
    "\\end{bmatrix}.$$\n",
    "\n",
    "When we apply a row operation to the above matrix, we get $[E_1A | E_1]$, where $E_1$ is the elementary operation that corresponds to the row operation. As we apply more row operations, we eventually get \n",
    "$$[E_k \\cdots E_2E_1A | E_k \\cdots E_2E_1] = [\\mathrm{REF}(A) | E_k \\cdots E_2E_1].$$\n",
    "\n",
    "Since $A$ has size $3 \\times 3$, so is $\\mathrm{REF}(A)$. It follows that $\\mathrm{REF}(A) = I_3$ if and only if $A$ is invertible, and if this is the case, then $A^{-1} = E_k \\cdots E_2E_1$."
   ]
  },
  {
   "cell_type": "markdown",
   "metadata": {},
   "source": [
    "**Exercise**. Compute $A^{-1}$ above, assuming the exercise that follows:\n",
    "\n",
    "**Exercise**. Let $\\phi : V \\rightarrow W$ be a linear map over $\\mathbb{F}$. If $\\dim(V) = \\dim(W)$, show that\n",
    "1. if $\\phi$ is injective, then $\\phi$ is an isomorphism;\n",
    "2. if $\\phi$ is surjective, then $\\phi$ is an isomorphism."
   ]
  }
 ],
 "metadata": {
  "kernelspec": {
   "display_name": "Python 3",
   "language": "python",
   "name": "python3"
  },
  "language_info": {
   "codemirror_mode": {
    "name": "ipython",
    "version": 3
   },
   "file_extension": ".py",
   "mimetype": "text/x-python",
   "name": "python",
   "nbconvert_exporter": "python",
   "pygments_lexer": "ipython3",
   "version": "3.12.1"
  }
 },
 "nbformat": 4,
 "nbformat_minor": 2
}
