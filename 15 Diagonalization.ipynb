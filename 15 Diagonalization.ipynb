{
 "cells": [
  {
   "cell_type": "markdown",
   "metadata": {},
   "source": [
    "# $\\S15$. Diagonalization"
   ]
  },
  {
   "cell_type": "markdown",
   "metadata": {},
   "source": [
    "**Author**: [Gilyoung Cheong](https://www.linkedin.com/in/gycheong/)\n",
    "\n",
    "**References**\n",
    "* [\"Linear Algebra Done Wrong\" by Sergei Treil](https://sites.google.com/a/brown.edu/sergei-treil-homepage/linear-algebra-done-wrong): Chapter 4 Section 2"
   ]
  },
  {
   "cell_type": "markdown",
   "metadata": {},
   "source": [
    "Let $n$ be a positive integer.\n",
    "\n",
    "### Diagonalization: Two ways of seeing it\n",
    "\n",
    "Given an $n \\times n$ matrix $A$ over $\\mathbb{F}$, we say $A$ is **diagonalizable** if $A$ is similar to a diagonal matrix, say $\\mathrm{diag}(\\lambda_1, \\dots, \\lambda_n).$\n",
    "\n",
    "Note that if this happens, then the eigenvalues of $A$ are precisely $\\lambda_1, \\dots, \\lambda_n$, counting with multiplicity."
   ]
  },
  {
   "cell_type": "markdown",
   "metadata": {},
   "source": [
    "**Exercise**. Let $\\boldsymbol{v}_1, \\dots, \\boldsymbol{v}_n$ form a basis for $\\mathbb{F}^n$ and denote by $Q$ the $n \\times n$ matrix whose columns are given by $\\boldsymbol{v}_1, \\dots, \\boldsymbol{v}_n$. Show that the following statements are equivalent:\n",
    "\n",
    "1. $Q^{-1}AQ = \\mathrm{diag}(\\lambda_1, \\dots, \\lambda_n)$;\n",
    "2. $A\\boldsymbol{v}_j = \\lambda_j \\boldsymbol{v}_j$ for $1 \\leq j \\leq n$."
   ]
  },
  {
   "cell_type": "markdown",
   "metadata": {},
   "source": [
    "When any of the above statement holds, we say that $\\boldsymbol{v}_1, \\dots, \\boldsymbol{v}_n$ is an **eigenbasis** of $\\mathbb{F}^n$ given by $A$. We say $A$ is **diagonalizable** if it admits an eigenbasis of $\\mathbb{F}^n$.\n",
    "\n",
    "Unfortunately, not every matrix is diagonalizable:"
   ]
  },
  {
   "cell_type": "markdown",
   "metadata": {},
   "source": [
    "**Exercise**. Show that the following matrix is not diagonalizable:\n",
    "\n",
    "$$A = \\begin{bmatrix}\n",
    "0 & 1 \\\\\n",
    "0 & 0\n",
    "\\end{bmatrix}.$$"
   ]
  },
  {
   "cell_type": "markdown",
   "metadata": {},
   "source": [
    "Nevertheless, there are in some sense \"more\" diagonalizable matrices then non-diagonalizable ones. For example:\n",
    "\n",
    "**Proposition**. If $A$ is an $n \\times n$ matrix that had $n$ distinct eigenvalues, then $A$ is diagonalizable.\n",
    "\n",
    "To show the above theorem, it is somehow easier to show the following more general statement:\n",
    "\n",
    "**Theorem**. If $A$ is an $n \\times n$ matrix that had $r$ distinct eigenvalues $\\lambda_1, \\dots, \\lambda_r$ with corresponding eigenvectors $\\boldsymbol{v}_1, \\dots, \\boldsymbol{v}_r$, then $\\boldsymbol{v}_1, \\dots, \\boldsymbol{v}_r$ are linearly independent.\n",
    "\n",
    "*Proof*. We proceed by induction on $r$. Any eigenvector is nonzero, so the base case $r = 1$ is established. For induction hypothesis, suppose that the result is true for $r-1$ eigenvectors corresponding to distinct eigenvalues.\n",
    "\n",
    "We want to show that $\\boldsymbol{v}_1, \\dots, \\boldsymbol{v}_{r-1}, \\boldsymbol{v}_r$ are linearly independent. To do this, we assume that\n",
    "\n",
    "$$c_1\\boldsymbol{v}_1 + \\cdots + c_{r-1}\\boldsymbol{v}_{r-1} + c_r\\boldsymbol{v}_r = \\boldsymbol{0}$$\n",
    "\n",
    "with $c_1, \\dots, c_{r-1}, c_r \\in \\mathbb{F}$, and then our goal is to show that $c_1 = \\cdots = c_{r-1} = c_r = 0$. Applying $A$ both sides of the above identity, we get\n",
    "\n",
    "$$c_1\\lambda_1\\boldsymbol{v}_1 + \\cdots + c_{r-1}\\lambda_{r-1}\\boldsymbol{v}_{r-1} + c_r\\lambda_r\\boldsymbol{v}_r = \\boldsymbol{0}.$$\n",
    "\n",
    "Let us multiply $\\lambda_r$ to the previous identity (not the one directly above) to get\n",
    "\n",
    "$$c_1\\lambda_r\\boldsymbol{v}_1 + \\cdots + c_{r-1}\\lambda_{r-1}\\boldsymbol{v}_{r-1} + c_r\\lambda_r\\boldsymbol{v}_r = \\boldsymbol{0}.$$\n",
    "\n",
    "Subtracting the one from another, we get\n",
    "\n",
    "$$c_1(\\lambda_1 - \\lambda_r)\\boldsymbol{v}_1 + \\cdots + c_{r-1}(\\lambda_{r-1} - \\lambda_r)\\boldsymbol{v}_{r-1} = 0.$$\n",
    "\n",
    "By induction hypothesis, we must have\n",
    "\n",
    "$$c_1(\\lambda_1 - \\lambda_r) = \\cdots = c_{r-1}(\\lambda_{r-1} - \\lambda_r) = 0,$$\n",
    "\n",
    "but since $\\lambda_1 - \\lambda_r, \\dots, \\lambda_{r-1} - \\lambda_r \\neq 0$, we must have \n",
    "\n",
    "$$c_1 = \\cdots = c_{r-1} = 0.$$\n",
    "\n",
    "Hence, we have $c_r \\boldsymbol{v}_r = 0$, but since $\\boldsymbol{v}_r \\neq \\boldsymbol{0}$, we must have $c_r = 0$ as well. This finishes the proof $\\Box$"
   ]
  },
  {
   "cell_type": "markdown",
   "metadata": {},
   "source": [
    "**Warning**. The converse of the above theorem does not hold. For example, consider $I_2$, which is a $2 \\times 2$ diagonal matrix that does not have $2$ distinct eigenvalues."
   ]
  },
  {
   "cell_type": "markdown",
   "metadata": {},
   "source": [
    "**Advice**. A complete understanding of measuring how much an $n \\times n$ matrix is diagnoalizable is out of the scope of our textbook and this course. If you are interested in mastering this theory, I recommend Chapter 12 of [Dummit and Foote's *Abstract Algebra*, 3rd edition](https://www.amazon.com/Abstract-Algebra-3rd-David-Dummit/dp/0471433349)."
   ]
  },
  {
   "cell_type": "markdown",
   "metadata": {},
   "source": [
    "**Exercise**. Let\n",
    "\n",
    "$$A = \\begin{bmatrix}\n",
    "1 & 2 \\\\\n",
    "0 & 4 \n",
    "\\end{bmatrix}.$$\n",
    "\n",
    "Compute $A^{100}$ and explain how you got your answer."
   ]
  },
  {
   "cell_type": "markdown",
   "metadata": {},
   "source": [
    "**HW 7 Problem 4**. Let\n",
    "\n",
    "$$A = \\begin{bmatrix}\n",
    "1 & 2 & 3 \\\\\n",
    "0 & 4 & 5 \\\\\n",
    "0 & 0 & 6\n",
    "\\end{bmatrix}.$$\n",
    "\n",
    "Compute $A^{100}$ and explain how you got your answer."
   ]
  }
 ],
 "metadata": {
  "kernelspec": {
   "display_name": "Python 3",
   "language": "python",
   "name": "python3"
  },
  "language_info": {
   "codemirror_mode": {
    "name": "ipython",
    "version": 3
   },
   "file_extension": ".py",
   "mimetype": "text/x-python",
   "name": "python",
   "nbconvert_exporter": "python",
   "pygments_lexer": "ipython3",
   "version": "3.12.1"
  }
 },
 "nbformat": 4,
 "nbformat_minor": 2
}
