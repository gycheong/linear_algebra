{
 "cells": [
  {
   "cell_type": "markdown",
   "metadata": {},
   "source": [
    "# $\\S13$. Determinant 1"
   ]
  },
  {
   "cell_type": "markdown",
   "metadata": {},
   "source": [
    "**Author**: [Gilyoung Cheong](https://www.linkedin.com/in/gycheong/)\n",
    "\n",
    "**References**\n",
    "* [\"Linear Algebra Done Wrong\" by Sergei Treil](https://sites.google.com/a/brown.edu/sergei-treil-homepage/linear-algebra-done-wrong): Chapter 3 Sections 1 and 2"
   ]
  },
  {
   "cell_type": "markdown",
   "metadata": {},
   "source": [
    "Let $n$ be a positive integer.\n",
    "\n",
    "## Existence and Uniqueness Theorem\n",
    "\n",
    "**Theorem (Existence and Uniqueness of Determinant)**. There exists a unique map $D : (\\mathbb{F}^{n})^n \\rightarrow \\mathbb{F}$ satisfying the following properties:\n",
    "\n",
    "1. (Multi-linear) For every $1 \\leq i \\leq n$ and $n-1$ vectors $\\boldsymbol{v}_1, \\dots, \\boldsymbol{v}_{i-1}, \\dots, \\boldsymbol{v}_{i+1}, \\dots, \\boldsymbol{v}_n \\in \\mathbb{F}^n$, the map $\\mathbb{F}^n \\rightarrow \\mathbb{F}$ given by $\\boldsymbol{x} \\mapsto D(\\boldsymbol{v}_1, \\dots, \\boldsymbol{v}_{i-1}, \\boldsymbol{x}, \\boldsymbol{v}_{i+1}, \\dots, \\boldsymbol{v}_n)$ is linear.\n",
    "2. (Alternating) Given any vectors $\\boldsymbol{v}_1, \\dots, \\boldsymbol{v}_n$, if there are any distinct $i, j \\in \\{1, 2, \\dots, n\\}$ such that $\\boldsymbol{v}_i = \\boldsymbol{v}_j$, then $D(\\boldsymbol{v}_1, \\dots, \\boldsymbol{v}_n) = 0$.\n",
    "3. (Normalizing) We have $D(\\boldsymbol{e}_1, \\dots, \\boldsymbol{e}_n) = 1$."
   ]
  },
  {
   "cell_type": "markdown",
   "metadata": {},
   "source": [
    "We shall prove the above theorem later, but we use it first to study the determinants of square matrices. Given an $n \\times n$ matrix $A$ over $\\mathbb{F}$, we define the determinant of $A$ as follows:\n",
    "\n",
    "$$\\det(A) := D(A\\boldsymbol{e}_1, \\dots, A\\boldsymbol{e}_n).$$"
   ]
  },
  {
   "cell_type": "markdown",
   "metadata": {},
   "source": [
    "## $1 \\times 1$ and $2 \\times 2$ cases\n",
    "\n",
    "**Exercise**. Show that for any $a \\in \\mathbb{F}$, we must have $\\det[a] = a$.\n",
    "\n",
    "**Exercise**. Show that for any $a, b, c, d \\in \\mathbb{F}$, we must have\n",
    "\n",
    "$$\\det \\begin{bmatrix}\n",
    "a & b \\\\\n",
    "c & d\n",
    "\\end{bmatrix} = ad - bc.$$"
   ]
  },
  {
   "cell_type": "markdown",
   "metadata": {},
   "source": [
    "## More common properties\n",
    "\n",
    "**Exercise**. Let $n \\geq 2$. Given an $n \\times n$ matrix $A$, let $B$ be an $n \\times n$ matrix obtained by switching two distinct columns of $A$. Then show that $\\det(B) = -\\det(A)$.\n",
    "\n",
    "**Exercise**. Let $n \\geq 2$. Given an $n \\times n$ matrix $A$, let $B$ be an $n \\times n$ matrix obtained by adding a multiple of a column to another column of $A$. Then show that $\\det(B) = \\det(A)$.\n",
    "\n",
    "**Exercise**. Given an $n \\times n$ matrix $A$, show that if $A$ is upper-triangular or lower-triangular, then $\\det(A)$ is the product of the diagonal entries of $A$.\n",
    "\n",
    "**Exercise**. Given an $n \\times n$ matrix $A$, show that $A$ is invertible if and only if $\\det(A) \\neq 0$. (Hint: When we assume $A$ is invertible, then use the fact that we can get to the identity matrix by applying finitely many column operations on $A$.)\n",
    "\n",
    "**Exercise**. Given an $n \\times n$ matrix $A$, let $B$ be the $n \\times n$ matirx given by mulitplying a column of $A$ by a constant $c \\in \\mathbb{F}$. Show that $\\det(B) = c^n \\det(A)$."
   ]
  },
  {
   "cell_type": "markdown",
   "metadata": {},
   "source": [
    "## Two important theorems\n",
    "\n",
    "**Theorem 1**. Given an $n \\times n$ matrix $A$, we have\n",
    "$$\\det(A^T) = \\det(A).$$\n",
    "\n",
    "**Theorem 2**. Given any $n \\times n$ matrices $A$ and $B$, we have\n",
    "$$\\det(AB) = \\det(A)\\det(B).$$"
   ]
  },
  {
   "cell_type": "markdown",
   "metadata": {},
   "source": [
    "**Exercise 1**. Show Theorem 1 when $A$ is an elementary matrix.\n",
    "\n",
    "**Exercise 2**. Show Theorem 2 when $B$ is an elementary matrix."
   ]
  },
  {
   "cell_type": "markdown",
   "metadata": {},
   "source": [
    "*Proof of Theorem 1*. We know that both sides are $0$ if $A$ is not invertible. Hence, suppose that $A$ is invertible. Consider elementary matrices $E_1, \\dots, E_k$ such that $E_1 \\cdots E_k A = I_n$. This implies that\n",
    "$$A = E_{1}^{-1} \\cdots E_k^{-1},$$\n",
    "and each $E_i^{-1}$ is an elementary matrix as well. We also have\n",
    "$$A^T = (E_{k}^{-1})^T \\cdots (E_1^{-1})^T,$$\n",
    "and note that each $(E_{k}^{-1})^T$ is still an elementary matrix. Thus, by applying Exercises 1 and 2, we have\n",
    "$$\\begin{align*}\n",
    "\\det(A^T) &= \\det((E_{k}^{-1})^T) \\cdots \\det((E_1^{-1})^T) \\\\\n",
    "&= \\det(E_{k}^{-1}) \\cdots \\det(E_1^{-1}) \\\\\n",
    "&= \\det(E_1^{-1}) \\cdots \\det(E_{k}^{-1}) \\\\\n",
    "&= \\det(E_1^{-1} \\cdots E_{k}^{-1}) \\\\\n",
    "&= \\det(A),\n",
    "\\end{align*}$$\n",
    "as desired."
   ]
  },
  {
   "cell_type": "markdown",
   "metadata": {},
   "source": [
    "**HW 5 Problem 1**. Let $A$ and $B$ be $n \\times n$ matrices over $\\mathbb{F}$. Show that if any one of $A$ or $B$ are not invertible, then $AB$ is not invertible\n",
    "\n",
    "**HW 5 Problem 2**. Show Theorem 2.\n",
    "\n",
    "**HW 5 Problem 3**. Let $A$ be any $n \\times n$ matrix such that $A^n = 0$. Then show that $I_n + A$ is invertible.\n",
    "\n",
    "Hint: Let $B := -A$ so that our problem is to show that $I_n - B$ is invertible. Try to expand $(I_n - B)(I_n + B + B^2 + \\cdots + B^{n-1})$. What do you get?"
   ]
  }
 ],
 "metadata": {
  "kernelspec": {
   "display_name": "Python 3",
   "language": "python",
   "name": "python3"
  },
  "language_info": {
   "codemirror_mode": {
    "name": "ipython",
    "version": 3
   },
   "file_extension": ".py",
   "mimetype": "text/x-python",
   "name": "python",
   "nbconvert_exporter": "python",
   "pygments_lexer": "ipython3",
   "version": "3.12.1"
  }
 },
 "nbformat": 4,
 "nbformat_minor": 2
}
